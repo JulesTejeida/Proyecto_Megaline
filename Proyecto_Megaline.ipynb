{
 "cells": [
  {
   "cell_type": "markdown",
   "metadata": {
    "id": "3rYiDeEH0q0f"
   },
   "source": [
    "# ¿Cuál es la mejor tarifa?\n",
    "\n",
    "Analisis para el operador de telecomunicaciones Megaline. La empresa ofrece a sus clientes dos tarifas de prepago, Surf y Ultimate. El departamento comercial quiere saber cuál de las tarifas genera más ingresos para poder ajustar el presupuesto de publicidad.\n",
    "\n",
    "Se debe realizar un análisis preliminar de las tarifas basado en una selección de clientes relativamente pequeña. Tendrás los datos de 500 clientes de Megaline: quiénes son los clientes, de dónde son, qué tarifa usan, así como la cantidad de llamadas que hicieron y los mensajes de texto que enviaron en 2018. Tu trabajo es analizar el comportamiento de los clientes y determinar qué tarifa de prepago genera más ingresos."
   ]
  },
  {
   "cell_type": "markdown",
   "metadata": {
    "id": "MQi4IPy70q0y"
   },
   "source": [
    "## Inicio"
   ]
  },
  {
   "cell_type": "code",
   "execution_count": 3,
   "metadata": {
    "id": "MtYIuBxu0q0z"
   },
   "outputs": [],
   "source": [
    "import pandas as pd\n",
    "import numpy as np\n",
    "import matplotlib.pyplot as plt\n",
    "import seaborn as sns # Cargar todas las librerías\n",
    "import math \n"
   ]
  },
  {
   "cell_type": "markdown",
   "metadata": {
    "id": "4ysWWC5i0q00"
   },
   "source": [
    "## Cargar datos"
   ]
  },
  {
   "cell_type": "code",
   "execution_count": null,
   "metadata": {
    "id": "CCqPW7rS0q01"
   },
   "outputs": [],
   "source": [
    "calls = pd.read_csv('/datasets/megaline_calls.csv')\n",
    "internet = pd.read_csv('/datasets/megaline_internet.csv')\n",
    "messages = pd.read_csv('/datasets/megaline_messages.csv')\n",
    "plans = pd.read_csv('/datasets/megaline_plans.csv')\n",
    "users = pd.read_csv('/datasets/megaline_users.csv')# Carga los archivos de datos en diferentes DataFrames\n",
    "\n"
   ]
  },
  {
   "cell_type": "markdown",
   "metadata": {
    "id": "69qqoJ3r0q01"
   },
   "source": [
    "## Preparar los datos"
   ]
  },
  {
   "cell_type": "markdown",
   "metadata": {
    "id": "ohBhimvH0q01"
   },
   "source": [
    "## Tarifas"
   ]
  },
  {
   "cell_type": "code",
   "execution_count": 81,
   "metadata": {
    "id": "64xzjwL70q02"
   },
   "outputs": [
    {
     "data": {
      "text/html": [
       "<div>\n",
       "<style scoped>\n",
       "    .dataframe tbody tr th:only-of-type {\n",
       "        vertical-align: middle;\n",
       "    }\n",
       "\n",
       "    .dataframe tbody tr th {\n",
       "        vertical-align: top;\n",
       "    }\n",
       "\n",
       "    .dataframe thead th {\n",
       "        text-align: right;\n",
       "    }\n",
       "</style>\n",
       "<table border=\"1\" class=\"dataframe\">\n",
       "  <thead>\n",
       "    <tr style=\"text-align: right;\">\n",
       "      <th></th>\n",
       "      <th>messages_included</th>\n",
       "      <th>mb_per_month_included</th>\n",
       "      <th>minutes_included</th>\n",
       "      <th>usd_monthly_pay</th>\n",
       "      <th>usd_per_gb</th>\n",
       "      <th>usd_per_message</th>\n",
       "      <th>usd_per_minute</th>\n",
       "      <th>plan_name</th>\n",
       "    </tr>\n",
       "  </thead>\n",
       "  <tbody>\n",
       "    <tr>\n",
       "      <th>0</th>\n",
       "      <td>50</td>\n",
       "      <td>15360</td>\n",
       "      <td>500</td>\n",
       "      <td>20</td>\n",
       "      <td>10</td>\n",
       "      <td>0.03</td>\n",
       "      <td>0.03</td>\n",
       "      <td>surf</td>\n",
       "    </tr>\n",
       "    <tr>\n",
       "      <th>1</th>\n",
       "      <td>1000</td>\n",
       "      <td>30720</td>\n",
       "      <td>3000</td>\n",
       "      <td>70</td>\n",
       "      <td>7</td>\n",
       "      <td>0.01</td>\n",
       "      <td>0.01</td>\n",
       "      <td>ultimate</td>\n",
       "    </tr>\n",
       "  </tbody>\n",
       "</table>\n",
       "</div>"
      ],
      "text/plain": [
       "   messages_included  mb_per_month_included  minutes_included  \\\n",
       "0                 50                  15360               500   \n",
       "1               1000                  30720              3000   \n",
       "\n",
       "   usd_monthly_pay  usd_per_gb  usd_per_message  usd_per_minute plan_name  \n",
       "0               20          10             0.03            0.03      surf  \n",
       "1               70           7             0.01            0.01  ultimate  "
      ]
     },
     "execution_count": 81,
     "metadata": {},
     "output_type": "execute_result"
    }
   ],
   "source": [
    "plans.head() # Imprime una muestra de los datos para las tarifas\n",
    "\n"
   ]
  },
  {
   "cell_type": "markdown",
   "metadata": {
    "id": "mEc_3_hs0q02"
   },
   "source": [
    "Después de revisar el DataFrame **plans**, observo que contiene todos los datos relevantes sobre las tarifas: nombre del plan, cuota mensual, minutos, mensajes y megabytes incluidos, así como los costos adicionales por minuto, SMS y gigabyte excedido.\n",
    "\n",
    "No detecto valores nulos en la información general (*plans.info()*), lo cual es positivo porque no se requerirá imputación de datos faltantes. También noto que los tipos de datos están correctos (números enteros o flotantes según corresponde).\n",
    "\n",
    "La muestra de datos (*plans.head()*) confirma que existen dos planes: \"surf\" y \"ultimate\". Todo parece coherente con la descripción de tarifas proporcionada en la documentación del proyecto.\n",
    "\n",
    "Por lo tanto, no es necesario realizar cambios adicionales en este DataFrame."
   ]
  },
  {
   "cell_type": "markdown",
   "metadata": {
    "id": "R3C05i1l0q03"
   },
   "source": [
    "## Corregir datos"
   ]
  },
  {
   "cell_type": "markdown",
   "metadata": {
    "id": "bIi8StZI0q03"
   },
   "source": [
    "Hasta este punto, revisé los datos de las tarifas y no encontré problemas obvios con los tipos de datos ni valores extremos fuera de lugar. Por lo tanto, no realicé cambios en esta etapa."
   ]
  },
  {
   "cell_type": "markdown",
   "metadata": {
    "id": "LJir7bml0q03"
   },
   "source": [
    "## Enriquecer los datos"
   ]
  },
  {
   "cell_type": "markdown",
   "metadata": {
    "id": "eqADpCfg0q04"
   },
   "source": [
    "### 1.6 Enriquecer los datos\n",
    "\n",
    "Decidí no enriquecer los datos de las tarifas porque toda la información necesaria ya se encuentra en el DataFrame. Más adelante, si es necesario, agregaré columnas durante los cálculos de ingresos mensuales.\n",
    "\n",
    "Es importante mencionar que durante el análisis se deberá considerar la transformación de unidades en ciertas métricas. Por ejemplo, para algunas visualizaciones o cálculos específicos puede ser necesario convertir el tráfico de datos de **megabytes (MB)** a **gigabytes (GB)**, dividiendo entre 1024 o 1000 según el contexto del análisis. Esta consideración permite una interpretación más intuitiva de los datos relacionados con el consumo de internet."
   ]
  },
  {
   "cell_type": "markdown",
   "metadata": {
    "id": "1n2X6WXf0q04"
   },
   "source": [
    "## Usuarios/as"
   ]
  },
  {
   "cell_type": "code",
   "execution_count": 82,
   "metadata": {
    "id": "2NgjWFqx0q05"
   },
   "outputs": [
    {
     "name": "stdout",
     "output_type": "stream",
     "text": [
      "<class 'pandas.core.frame.DataFrame'>\n",
      "RangeIndex: 500 entries, 0 to 499\n",
      "Data columns (total 8 columns):\n",
      " #   Column      Non-Null Count  Dtype \n",
      "---  ------      --------------  ----- \n",
      " 0   user_id     500 non-null    int64 \n",
      " 1   first_name  500 non-null    object\n",
      " 2   last_name   500 non-null    object\n",
      " 3   age         500 non-null    int64 \n",
      " 4   city        500 non-null    object\n",
      " 5   reg_date    500 non-null    object\n",
      " 6   plan        500 non-null    object\n",
      " 7   churn_date  34 non-null     object\n",
      "dtypes: int64(2), object(6)\n",
      "memory usage: 31.4+ KB\n"
     ]
    }
   ],
   "source": [
    "users.info() # Imprime la información general/resumida sobre el DataFrame de usuarios\n",
    "\n"
   ]
  },
  {
   "cell_type": "code",
   "execution_count": 83,
   "metadata": {
    "id": "1IN1L9uh0q05"
   },
   "outputs": [
    {
     "data": {
      "text/html": [
       "<div>\n",
       "<style scoped>\n",
       "    .dataframe tbody tr th:only-of-type {\n",
       "        vertical-align: middle;\n",
       "    }\n",
       "\n",
       "    .dataframe tbody tr th {\n",
       "        vertical-align: top;\n",
       "    }\n",
       "\n",
       "    .dataframe thead th {\n",
       "        text-align: right;\n",
       "    }\n",
       "</style>\n",
       "<table border=\"1\" class=\"dataframe\">\n",
       "  <thead>\n",
       "    <tr style=\"text-align: right;\">\n",
       "      <th></th>\n",
       "      <th>user_id</th>\n",
       "      <th>first_name</th>\n",
       "      <th>last_name</th>\n",
       "      <th>age</th>\n",
       "      <th>city</th>\n",
       "      <th>reg_date</th>\n",
       "      <th>plan</th>\n",
       "      <th>churn_date</th>\n",
       "    </tr>\n",
       "  </thead>\n",
       "  <tbody>\n",
       "    <tr>\n",
       "      <th>212</th>\n",
       "      <td>1212</td>\n",
       "      <td>Alfredo</td>\n",
       "      <td>Pruitt</td>\n",
       "      <td>36</td>\n",
       "      <td>Austin-Round Rock-Georgetown, TX MSA</td>\n",
       "      <td>2018-07-27</td>\n",
       "      <td>surf</td>\n",
       "      <td>NaN</td>\n",
       "    </tr>\n",
       "    <tr>\n",
       "      <th>364</th>\n",
       "      <td>1364</td>\n",
       "      <td>Clarine</td>\n",
       "      <td>Bonner</td>\n",
       "      <td>75</td>\n",
       "      <td>San Diego-Chula Vista-Carlsbad, CA MSA</td>\n",
       "      <td>2018-08-09</td>\n",
       "      <td>surf</td>\n",
       "      <td>NaN</td>\n",
       "    </tr>\n",
       "    <tr>\n",
       "      <th>84</th>\n",
       "      <td>1084</td>\n",
       "      <td>Wiley</td>\n",
       "      <td>Mckinney</td>\n",
       "      <td>21</td>\n",
       "      <td>Miami-Fort Lauderdale-West Palm Beach, FL MSA</td>\n",
       "      <td>2018-06-04</td>\n",
       "      <td>surf</td>\n",
       "      <td>2018-11-11</td>\n",
       "    </tr>\n",
       "    <tr>\n",
       "      <th>179</th>\n",
       "      <td>1179</td>\n",
       "      <td>Darcey</td>\n",
       "      <td>Baird</td>\n",
       "      <td>22</td>\n",
       "      <td>Dallas-Fort Worth-Arlington, TX MSA</td>\n",
       "      <td>2018-04-27</td>\n",
       "      <td>surf</td>\n",
       "      <td>NaN</td>\n",
       "    </tr>\n",
       "    <tr>\n",
       "      <th>428</th>\n",
       "      <td>1428</td>\n",
       "      <td>Asuncion</td>\n",
       "      <td>Conrad</td>\n",
       "      <td>66</td>\n",
       "      <td>Phoenix-Mesa-Chandler, AZ MSA</td>\n",
       "      <td>2018-10-23</td>\n",
       "      <td>surf</td>\n",
       "      <td>NaN</td>\n",
       "    </tr>\n",
       "    <tr>\n",
       "      <th>12</th>\n",
       "      <td>1012</td>\n",
       "      <td>Jonelle</td>\n",
       "      <td>Mcbride</td>\n",
       "      <td>59</td>\n",
       "      <td>Chicago-Naperville-Elgin, IL-IN-WI MSA</td>\n",
       "      <td>2018-06-28</td>\n",
       "      <td>surf</td>\n",
       "      <td>2018-11-16</td>\n",
       "    </tr>\n",
       "    <tr>\n",
       "      <th>42</th>\n",
       "      <td>1042</td>\n",
       "      <td>Clementina</td>\n",
       "      <td>Mclaughlin</td>\n",
       "      <td>40</td>\n",
       "      <td>Philadelphia-Camden-Wilmington, PA-NJ-DE-MD MSA</td>\n",
       "      <td>2018-01-15</td>\n",
       "      <td>surf</td>\n",
       "      <td>NaN</td>\n",
       "    </tr>\n",
       "    <tr>\n",
       "      <th>145</th>\n",
       "      <td>1145</td>\n",
       "      <td>Venice</td>\n",
       "      <td>Brooks</td>\n",
       "      <td>29</td>\n",
       "      <td>San Jose-Sunnyvale-Santa Clara, CA MSA</td>\n",
       "      <td>2018-04-12</td>\n",
       "      <td>surf</td>\n",
       "      <td>NaN</td>\n",
       "    </tr>\n",
       "    <tr>\n",
       "      <th>480</th>\n",
       "      <td>1480</td>\n",
       "      <td>Jasper</td>\n",
       "      <td>Buchanan</td>\n",
       "      <td>46</td>\n",
       "      <td>St. Louis, MO-IL MSA</td>\n",
       "      <td>2018-12-13</td>\n",
       "      <td>surf</td>\n",
       "      <td>NaN</td>\n",
       "    </tr>\n",
       "    <tr>\n",
       "      <th>213</th>\n",
       "      <td>1213</td>\n",
       "      <td>Carl</td>\n",
       "      <td>Newman</td>\n",
       "      <td>47</td>\n",
       "      <td>San Diego-Chula Vista-Carlsbad, CA MSA</td>\n",
       "      <td>2018-11-25</td>\n",
       "      <td>ultimate</td>\n",
       "      <td>NaN</td>\n",
       "    </tr>\n",
       "  </tbody>\n",
       "</table>\n",
       "</div>"
      ],
      "text/plain": [
       "     user_id  first_name   last_name  age  \\\n",
       "212     1212     Alfredo      Pruitt   36   \n",
       "364     1364     Clarine      Bonner   75   \n",
       "84      1084       Wiley    Mckinney   21   \n",
       "179     1179      Darcey       Baird   22   \n",
       "428     1428    Asuncion      Conrad   66   \n",
       "12      1012     Jonelle     Mcbride   59   \n",
       "42      1042  Clementina  Mclaughlin   40   \n",
       "145     1145      Venice      Brooks   29   \n",
       "480     1480      Jasper    Buchanan   46   \n",
       "213     1213        Carl      Newman   47   \n",
       "\n",
       "                                                city    reg_date      plan  \\\n",
       "212             Austin-Round Rock-Georgetown, TX MSA  2018-07-27      surf   \n",
       "364           San Diego-Chula Vista-Carlsbad, CA MSA  2018-08-09      surf   \n",
       "84     Miami-Fort Lauderdale-West Palm Beach, FL MSA  2018-06-04      surf   \n",
       "179              Dallas-Fort Worth-Arlington, TX MSA  2018-04-27      surf   \n",
       "428                    Phoenix-Mesa-Chandler, AZ MSA  2018-10-23      surf   \n",
       "12            Chicago-Naperville-Elgin, IL-IN-WI MSA  2018-06-28      surf   \n",
       "42   Philadelphia-Camden-Wilmington, PA-NJ-DE-MD MSA  2018-01-15      surf   \n",
       "145           San Jose-Sunnyvale-Santa Clara, CA MSA  2018-04-12      surf   \n",
       "480                             St. Louis, MO-IL MSA  2018-12-13      surf   \n",
       "213           San Diego-Chula Vista-Carlsbad, CA MSA  2018-11-25  ultimate   \n",
       "\n",
       "     churn_date  \n",
       "212         NaN  \n",
       "364         NaN  \n",
       "84   2018-11-11  \n",
       "179         NaN  \n",
       "428         NaN  \n",
       "12   2018-11-16  \n",
       "42          NaN  \n",
       "145         NaN  \n",
       "480         NaN  \n",
       "213         NaN  "
      ]
     },
     "execution_count": 83,
     "metadata": {},
     "output_type": "execute_result"
    }
   ],
   "source": [
    "users.sample(10) # Imprime una muestra de datos para usuarios\n",
    "\n"
   ]
  },
  {
   "cell_type": "markdown",
   "metadata": {
    "id": "dCZoUq4f0q06"
   },
   "source": [
    "Al revisar el DataFrame de usuarios, observé que:\n",
    "\t• Los tipos de datos son correctos en su mayoría.\n",
    "\t• Las columnas de fecha (reg_date y churn_date) necesitan ser convertidas a tipo datetime para análisis posterior.\n",
    "\t• No se detectaron valores nulos en user_id ni en plan.\n",
    "Convertiré las fechas en la próxima etapa para enriquecer los datos."
   ]
  },
  {
   "cell_type": "markdown",
   "metadata": {
    "id": "BX5FQh_I0q06"
   },
   "source": [
    "### Corregir los datos"
   ]
  },
  {
   "cell_type": "markdown",
   "metadata": {
    "id": "8OdKMwJv0q06"
   },
   "source": [
    "Convertí las columnas reg_date y churn_date a tipo datetime para poder trabajar con fechas más adelante (por ejemplo, calcular la duración de suscripción si es necesario). No se detectaron valores atípicos ni nulos importantes."
   ]
  },
  {
   "cell_type": "code",
   "execution_count": 84,
   "metadata": {
    "id": "yUqX-K0C0q07"
   },
   "outputs": [],
   "source": [
    "users['reg_date'] = pd.to_datetime(users['reg_date'], format='%Y-%m-%d')\n",
    "users['churn_date'] = pd.to_datetime(users['churn_date'], format='%Y-%m-%d')"
   ]
  },
  {
   "cell_type": "markdown",
   "metadata": {
    "id": "BX5FQh_I0q06"
   },
   "source": [
    "### Enriquecer los datos"
   ]
  },
  {
   "cell_type": "markdown",
   "metadata": {
    "id": "o7MeKCid0q08"
   },
   "source": [
    "## Llamadas"
   ]
  },
  {
   "cell_type": "code",
   "execution_count": 85,
   "metadata": {
    "id": "6dDlnoDm0q08"
   },
   "outputs": [
    {
     "name": "stdout",
     "output_type": "stream",
     "text": [
      "<class 'pandas.core.frame.DataFrame'>\n",
      "RangeIndex: 137735 entries, 0 to 137734\n",
      "Data columns (total 4 columns):\n",
      " #   Column     Non-Null Count   Dtype  \n",
      "---  ------     --------------   -----  \n",
      " 0   id         137735 non-null  object \n",
      " 1   user_id    137735 non-null  int64  \n",
      " 2   call_date  137735 non-null  object \n",
      " 3   duration   137735 non-null  float64\n",
      "dtypes: float64(1), int64(1), object(2)\n",
      "memory usage: 4.2+ MB\n"
     ]
    }
   ],
   "source": [
    "calls.info() # Imprime la información general/resumida sobre el DataFrame de las llamadas\n",
    "\n"
   ]
  },
  {
   "cell_type": "code",
   "execution_count": 86,
   "metadata": {
    "id": "kuh1vlNB0q09"
   },
   "outputs": [
    {
     "data": {
      "text/html": [
       "<div>\n",
       "<style scoped>\n",
       "    .dataframe tbody tr th:only-of-type {\n",
       "        vertical-align: middle;\n",
       "    }\n",
       "\n",
       "    .dataframe tbody tr th {\n",
       "        vertical-align: top;\n",
       "    }\n",
       "\n",
       "    .dataframe thead th {\n",
       "        text-align: right;\n",
       "    }\n",
       "</style>\n",
       "<table border=\"1\" class=\"dataframe\">\n",
       "  <thead>\n",
       "    <tr style=\"text-align: right;\">\n",
       "      <th></th>\n",
       "      <th>id</th>\n",
       "      <th>user_id</th>\n",
       "      <th>call_date</th>\n",
       "      <th>duration</th>\n",
       "    </tr>\n",
       "  </thead>\n",
       "  <tbody>\n",
       "    <tr>\n",
       "      <th>24257</th>\n",
       "      <td>1091_25</td>\n",
       "      <td>1091</td>\n",
       "      <td>2018-11-20</td>\n",
       "      <td>0.00</td>\n",
       "    </tr>\n",
       "    <tr>\n",
       "      <th>105586</th>\n",
       "      <td>1373_66</td>\n",
       "      <td>1373</td>\n",
       "      <td>2018-12-30</td>\n",
       "      <td>13.27</td>\n",
       "    </tr>\n",
       "    <tr>\n",
       "      <th>127572</th>\n",
       "      <td>1456_539</td>\n",
       "      <td>1456</td>\n",
       "      <td>2018-10-21</td>\n",
       "      <td>6.44</td>\n",
       "    </tr>\n",
       "    <tr>\n",
       "      <th>6184</th>\n",
       "      <td>1029_348</td>\n",
       "      <td>1029</td>\n",
       "      <td>2018-10-29</td>\n",
       "      <td>12.20</td>\n",
       "    </tr>\n",
       "    <tr>\n",
       "      <th>75577</th>\n",
       "      <td>1268_81</td>\n",
       "      <td>1268</td>\n",
       "      <td>2018-09-02</td>\n",
       "      <td>5.26</td>\n",
       "    </tr>\n",
       "    <tr>\n",
       "      <th>120818</th>\n",
       "      <td>1422_7</td>\n",
       "      <td>1422</td>\n",
       "      <td>2018-11-10</td>\n",
       "      <td>8.44</td>\n",
       "    </tr>\n",
       "    <tr>\n",
       "      <th>103019</th>\n",
       "      <td>1365_215</td>\n",
       "      <td>1365</td>\n",
       "      <td>2018-12-24</td>\n",
       "      <td>7.31</td>\n",
       "    </tr>\n",
       "    <tr>\n",
       "      <th>38968</th>\n",
       "      <td>1145_215</td>\n",
       "      <td>1145</td>\n",
       "      <td>2018-12-24</td>\n",
       "      <td>7.49</td>\n",
       "    </tr>\n",
       "    <tr>\n",
       "      <th>94787</th>\n",
       "      <td>1336_705</td>\n",
       "      <td>1336</td>\n",
       "      <td>2018-04-30</td>\n",
       "      <td>3.41</td>\n",
       "    </tr>\n",
       "    <tr>\n",
       "      <th>82037</th>\n",
       "      <td>1295_536</td>\n",
       "      <td>1295</td>\n",
       "      <td>2018-10-20</td>\n",
       "      <td>0.82</td>\n",
       "    </tr>\n",
       "  </tbody>\n",
       "</table>\n",
       "</div>"
      ],
      "text/plain": [
       "              id  user_id   call_date  duration\n",
       "24257    1091_25     1091  2018-11-20      0.00\n",
       "105586   1373_66     1373  2018-12-30     13.27\n",
       "127572  1456_539     1456  2018-10-21      6.44\n",
       "6184    1029_348     1029  2018-10-29     12.20\n",
       "75577    1268_81     1268  2018-09-02      5.26\n",
       "120818    1422_7     1422  2018-11-10      8.44\n",
       "103019  1365_215     1365  2018-12-24      7.31\n",
       "38968   1145_215     1145  2018-12-24      7.49\n",
       "94787   1336_705     1336  2018-04-30      3.41\n",
       "82037   1295_536     1295  2018-10-20      0.82"
      ]
     },
     "execution_count": 86,
     "metadata": {},
     "output_type": "execute_result"
    }
   ],
   "source": [
    "calls.sample(10) # Imprime una muestra de datos para las llamadas\n",
    "\n"
   ]
  },
  {
   "cell_type": "markdown",
   "metadata": {
    "id": "DOAxYJSx0q09"
   },
   "source": [
    "Observé que:\n",
    "\t• La columna call_date debe convertirse a tipo datetime.\n",
    "\t• La duración de las llamadas parece razonable. Sin embargo, algunas llamadas tienen una duración de 0 minutos. Esto puede deberse a llamadas no contestadas, por lo que no las eliminaré todavía.\n",
    "\t• No hay valores nulos."
   ]
  },
  {
   "cell_type": "markdown",
   "metadata": {
    "id": "S7hzxmbX0q0-"
   },
   "source": [
    "### Corregir los datos"
   ]
  },
  {
   "cell_type": "markdown",
   "metadata": {
    "id": "YxWyAjD20q0-"
   },
   "source": [
    "Convertí la columna call_date a tipo datetime. No eliminé las llamadas con duración 0 porque podrían representar intentos de llamada no contestados y eso puede ser relevante para el comportamiento de los usuarios."
   ]
  },
  {
   "cell_type": "code",
   "execution_count": 87,
   "metadata": {
    "id": "S2r8xA4f0q0-"
   },
   "outputs": [],
   "source": [
    "calls['call_date'] = pd.to_datetime(calls['call_date'], format='%Y-%m-%d')"
   ]
  },
  {
   "cell_type": "markdown",
   "metadata": {
    "id": "KrMgTrlG0q0_"
   },
   "source": [
    "### Enriquecer los datos"
   ]
  },
  {
   "cell_type": "markdown",
   "metadata": {
    "id": "a9MbmEvE0q0_"
   },
   "source": [
    "Hasta el momento, las llamadas con duración de 0 segundos podrían interpretarse como intentos de llamada que no fueron contestados o llamadas fallidas. \n",
    "No las eliminé porque podrían aportar información importante sobre el comportamiento de los usuarios, como intentos de comunicación fallidos o posibles patrones en el uso del servicio. \n",
    "Más adelante, si el análisis muestra que estas llamadas afectan negativamente los cálculos relevantes, consideraré tratarlas de manera distinta o excluirlas."
   ]
  },
  {
   "cell_type": "markdown",
   "metadata": {
    "id": "mOUZSi180q0_"
   },
   "source": [
    "## Mensajes"
   ]
  },
  {
   "cell_type": "code",
   "execution_count": 88,
   "metadata": {
    "id": "R-bYJpdV0q1A"
   },
   "outputs": [
    {
     "name": "stdout",
     "output_type": "stream",
     "text": [
      "<class 'pandas.core.frame.DataFrame'>\n",
      "RangeIndex: 76051 entries, 0 to 76050\n",
      "Data columns (total 3 columns):\n",
      " #   Column        Non-Null Count  Dtype \n",
      "---  ------        --------------  ----- \n",
      " 0   id            76051 non-null  object\n",
      " 1   user_id       76051 non-null  int64 \n",
      " 2   message_date  76051 non-null  object\n",
      "dtypes: int64(1), object(2)\n",
      "memory usage: 1.7+ MB\n"
     ]
    }
   ],
   "source": [
    "messages.info() # Imprime la información general/resumida sobre el DataFrame de los mensajes\n",
    "\n"
   ]
  },
  {
   "cell_type": "code",
   "execution_count": 89,
   "metadata": {
    "id": "mCEl2iGE0q1A"
   },
   "outputs": [
    {
     "data": {
      "text/html": [
       "<div>\n",
       "<style scoped>\n",
       "    .dataframe tbody tr th:only-of-type {\n",
       "        vertical-align: middle;\n",
       "    }\n",
       "\n",
       "    .dataframe tbody tr th {\n",
       "        vertical-align: top;\n",
       "    }\n",
       "\n",
       "    .dataframe thead th {\n",
       "        text-align: right;\n",
       "    }\n",
       "</style>\n",
       "<table border=\"1\" class=\"dataframe\">\n",
       "  <thead>\n",
       "    <tr style=\"text-align: right;\">\n",
       "      <th></th>\n",
       "      <th>id</th>\n",
       "      <th>user_id</th>\n",
       "      <th>message_date</th>\n",
       "    </tr>\n",
       "  </thead>\n",
       "  <tbody>\n",
       "    <tr>\n",
       "      <th>46408</th>\n",
       "      <td>1316_267</td>\n",
       "      <td>1316</td>\n",
       "      <td>2018-11-12</td>\n",
       "    </tr>\n",
       "    <tr>\n",
       "      <th>39434</th>\n",
       "      <td>1256_232</td>\n",
       "      <td>1256</td>\n",
       "      <td>2018-12-20</td>\n",
       "    </tr>\n",
       "    <tr>\n",
       "      <th>29347</th>\n",
       "      <td>1180_328</td>\n",
       "      <td>1180</td>\n",
       "      <td>2018-12-23</td>\n",
       "    </tr>\n",
       "    <tr>\n",
       "      <th>21281</th>\n",
       "      <td>1132_557</td>\n",
       "      <td>1132</td>\n",
       "      <td>2018-11-23</td>\n",
       "    </tr>\n",
       "    <tr>\n",
       "      <th>21831</th>\n",
       "      <td>1132_1333</td>\n",
       "      <td>1132</td>\n",
       "      <td>2018-12-08</td>\n",
       "    </tr>\n",
       "    <tr>\n",
       "      <th>11868</th>\n",
       "      <td>1079_267</td>\n",
       "      <td>1079</td>\n",
       "      <td>2018-12-03</td>\n",
       "    </tr>\n",
       "    <tr>\n",
       "      <th>74938</th>\n",
       "      <td>1489_13</td>\n",
       "      <td>1489</td>\n",
       "      <td>2018-12-19</td>\n",
       "    </tr>\n",
       "    <tr>\n",
       "      <th>20100</th>\n",
       "      <td>1128_69</td>\n",
       "      <td>1128</td>\n",
       "      <td>2018-12-01</td>\n",
       "    </tr>\n",
       "    <tr>\n",
       "      <th>52304</th>\n",
       "      <td>1336_271</td>\n",
       "      <td>1336</td>\n",
       "      <td>2018-09-07</td>\n",
       "    </tr>\n",
       "    <tr>\n",
       "      <th>9981</th>\n",
       "      <td>1075_236</td>\n",
       "      <td>1075</td>\n",
       "      <td>2018-12-14</td>\n",
       "    </tr>\n",
       "  </tbody>\n",
       "</table>\n",
       "</div>"
      ],
      "text/plain": [
       "              id  user_id message_date\n",
       "46408   1316_267     1316   2018-11-12\n",
       "39434   1256_232     1256   2018-12-20\n",
       "29347   1180_328     1180   2018-12-23\n",
       "21281   1132_557     1132   2018-11-23\n",
       "21831  1132_1333     1132   2018-12-08\n",
       "11868   1079_267     1079   2018-12-03\n",
       "74938    1489_13     1489   2018-12-19\n",
       "20100    1128_69     1128   2018-12-01\n",
       "52304   1336_271     1336   2018-09-07\n",
       "9981    1075_236     1075   2018-12-14"
      ]
     },
     "execution_count": 89,
     "metadata": {},
     "output_type": "execute_result"
    }
   ],
   "source": [
    "messages.sample(10) # Imprime una muestra de datos para los mensajes\n",
    "\n"
   ]
  },
  {
   "cell_type": "markdown",
   "metadata": {
    "id": "04xDj7KH0q1A"
   },
   "source": [
    "Observé que:\n",
    "\t• La columna message_date debe convertirse a tipo datetime.\n",
    "\t• No se detectaron valores nulos o inconsistencias."
   ]
  },
  {
   "cell_type": "markdown",
   "metadata": {
    "id": "Sprfak900q1B"
   },
   "source": [
    "### Corregir los datos"
   ]
  },
  {
   "cell_type": "markdown",
   "metadata": {
    "id": "eGw7d9j10q1B"
   },
   "source": [
    "Convertí la columna message_date a tipo datetime para facilitar los cálculos mensuales más adelante."
   ]
  },
  {
   "cell_type": "code",
   "execution_count": 90,
   "metadata": {
    "id": "vsllvkoa0q1B"
   },
   "outputs": [],
   "source": [
    "messages['message_date'] = pd.to_datetime(messages['message_date'], format='%Y-%m-%d')"
   ]
  },
  {
   "cell_type": "markdown",
   "metadata": {
    "id": "HvLid7iD0q1B"
   },
   "source": [
    "### Enriquecer los datos"
   ]
  },
  {
   "cell_type": "markdown",
   "metadata": {
    "id": "bStkaxn40q1C"
   },
   "source": [
    "## Internet"
   ]
  },
  {
   "cell_type": "code",
   "execution_count": 91,
   "metadata": {
    "id": "e-Uz5qyn0q1C"
   },
   "outputs": [
    {
     "name": "stdout",
     "output_type": "stream",
     "text": [
      "<class 'pandas.core.frame.DataFrame'>\n",
      "RangeIndex: 104825 entries, 0 to 104824\n",
      "Data columns (total 4 columns):\n",
      " #   Column        Non-Null Count   Dtype  \n",
      "---  ------        --------------   -----  \n",
      " 0   id            104825 non-null  object \n",
      " 1   user_id       104825 non-null  int64  \n",
      " 2   session_date  104825 non-null  object \n",
      " 3   mb_used       104825 non-null  float64\n",
      "dtypes: float64(1), int64(1), object(2)\n",
      "memory usage: 3.2+ MB\n"
     ]
    }
   ],
   "source": [
    "internet.info() # Imprime la información general/resumida sobre el DataFrame de internet\n",
    "\n"
   ]
  },
  {
   "cell_type": "code",
   "execution_count": 92,
   "metadata": {
    "id": "9r3x_XLw0q1C"
   },
   "outputs": [
    {
     "data": {
      "text/html": [
       "<div>\n",
       "<style scoped>\n",
       "    .dataframe tbody tr th:only-of-type {\n",
       "        vertical-align: middle;\n",
       "    }\n",
       "\n",
       "    .dataframe tbody tr th {\n",
       "        vertical-align: top;\n",
       "    }\n",
       "\n",
       "    .dataframe thead th {\n",
       "        text-align: right;\n",
       "    }\n",
       "</style>\n",
       "<table border=\"1\" class=\"dataframe\">\n",
       "  <thead>\n",
       "    <tr style=\"text-align: right;\">\n",
       "      <th></th>\n",
       "      <th>id</th>\n",
       "      <th>user_id</th>\n",
       "      <th>session_date</th>\n",
       "      <th>mb_used</th>\n",
       "    </tr>\n",
       "  </thead>\n",
       "  <tbody>\n",
       "    <tr>\n",
       "      <th>75084</th>\n",
       "      <td>1353_247</td>\n",
       "      <td>1353</td>\n",
       "      <td>2018-10-10</td>\n",
       "      <td>726.94</td>\n",
       "    </tr>\n",
       "    <tr>\n",
       "      <th>35560</th>\n",
       "      <td>1160_264</td>\n",
       "      <td>1160</td>\n",
       "      <td>2018-12-01</td>\n",
       "      <td>216.89</td>\n",
       "    </tr>\n",
       "    <tr>\n",
       "      <th>82167</th>\n",
       "      <td>1384_409</td>\n",
       "      <td>1384</td>\n",
       "      <td>2018-10-20</td>\n",
       "      <td>0.00</td>\n",
       "    </tr>\n",
       "    <tr>\n",
       "      <th>13687</th>\n",
       "      <td>1064_135</td>\n",
       "      <td>1064</td>\n",
       "      <td>2018-09-12</td>\n",
       "      <td>354.72</td>\n",
       "    </tr>\n",
       "    <tr>\n",
       "      <th>85548</th>\n",
       "      <td>1399_156</td>\n",
       "      <td>1399</td>\n",
       "      <td>2018-12-21</td>\n",
       "      <td>362.80</td>\n",
       "    </tr>\n",
       "    <tr>\n",
       "      <th>75454</th>\n",
       "      <td>1355_106</td>\n",
       "      <td>1355</td>\n",
       "      <td>2018-10-25</td>\n",
       "      <td>459.75</td>\n",
       "    </tr>\n",
       "    <tr>\n",
       "      <th>101454</th>\n",
       "      <td>1483_271</td>\n",
       "      <td>1483</td>\n",
       "      <td>2018-07-11</td>\n",
       "      <td>196.74</td>\n",
       "    </tr>\n",
       "    <tr>\n",
       "      <th>23077</th>\n",
       "      <td>1106_348</td>\n",
       "      <td>1106</td>\n",
       "      <td>2018-12-07</td>\n",
       "      <td>120.32</td>\n",
       "    </tr>\n",
       "    <tr>\n",
       "      <th>23825</th>\n",
       "      <td>1110_83</td>\n",
       "      <td>1110</td>\n",
       "      <td>2018-06-22</td>\n",
       "      <td>389.44</td>\n",
       "    </tr>\n",
       "    <tr>\n",
       "      <th>86183</th>\n",
       "      <td>1400_318</td>\n",
       "      <td>1400</td>\n",
       "      <td>2018-05-19</td>\n",
       "      <td>439.05</td>\n",
       "    </tr>\n",
       "  </tbody>\n",
       "</table>\n",
       "</div>"
      ],
      "text/plain": [
       "              id  user_id session_date  mb_used\n",
       "75084   1353_247     1353   2018-10-10   726.94\n",
       "35560   1160_264     1160   2018-12-01   216.89\n",
       "82167   1384_409     1384   2018-10-20     0.00\n",
       "13687   1064_135     1064   2018-09-12   354.72\n",
       "85548   1399_156     1399   2018-12-21   362.80\n",
       "75454   1355_106     1355   2018-10-25   459.75\n",
       "101454  1483_271     1483   2018-07-11   196.74\n",
       "23077   1106_348     1106   2018-12-07   120.32\n",
       "23825    1110_83     1110   2018-06-22   389.44\n",
       "86183   1400_318     1400   2018-05-19   439.05"
      ]
     },
     "execution_count": 92,
     "metadata": {},
     "output_type": "execute_result"
    }
   ],
   "source": [
    "internet.sample(10) # Imprime una muestra de datos para el tráfico de internet\n",
    "\n"
   ]
  },
  {
   "cell_type": "markdown",
   "metadata": {
    "id": "EzOG5ik30q1D"
   },
   "source": [
    "En el DataFrame internet veo que las columnas principales son id, mb_used, session_date y user_id. Las variables parecen estar en los tipos correctos excepto session_date, que está como objeto (string) y debería ser tipo fecha. No detecto valores nulos en la muestra, pero revisaré en el siguiente paso."
   ]
  },
  {
   "cell_type": "markdown",
   "metadata": {
    "id": "yA0tkPFg0q1D"
   },
   "source": [
    "### Corregir los datos"
   ]
  },
  {
   "cell_type": "code",
   "execution_count": 93,
   "metadata": {
    "id": "zVeanzdd0q1E"
   },
   "outputs": [],
   "source": [
    "internet['session_date'] = pd.to_datetime(internet['session_date'], format='%Y-%m-%d')"
   ]
  },
  {
   "cell_type": "markdown",
   "metadata": {
    "id": "e8_mLF4a0q1E"
   },
   "source": [
    "### Enriquecer los datos"
   ]
  },
  {
   "cell_type": "markdown",
   "metadata": {
    "id": "xhNdn2tE0q1E"
   },
   "source": [
    "- Nota: Más adelante, cuando calculemos el consumo de datos en gigabytes (GB) se realizará la transformación de megabytes a gigabytes dividiendo entre 1024.\n",
    "- Además, se aplicará un redondeo hacia arriba (ceil) porque cualquier exceso\n",
    "- por mínimo que sea, implica un costo adicional según la política de los planes."
   ]
  },
  {
   "cell_type": "code",
   "execution_count": 94,
   "metadata": {
    "id": "ESiYPIEK0q1E"
   },
   "outputs": [],
   "source": [
    "internet['month'] = internet['session_date'].dt.month"
   ]
  },
  {
   "cell_type": "markdown",
   "metadata": {
    "id": "3UA2cqIW0q1E"
   },
   "source": [
    "## Estudiar las condiciones de las tarifas"
   ]
  },
  {
   "cell_type": "markdown",
   "metadata": {
    "id": "T86Sqltq0q1F"
   },
   "source": [
    "Verifico que los datos de las tarifas corresponden a lo mencionado en la descripción del proyecto. Las columnas incluyen el costo mensual, minutos, SMS y datos incluidos, así como el costo por excedente. Todo parece correcto y listo para usar."
   ]
  },
  {
   "cell_type": "code",
   "execution_count": 95,
   "metadata": {
    "id": "i409op8p0q1F"
   },
   "outputs": [
    {
     "data": {
      "text/html": [
       "<div>\n",
       "<style scoped>\n",
       "    .dataframe tbody tr th:only-of-type {\n",
       "        vertical-align: middle;\n",
       "    }\n",
       "\n",
       "    .dataframe tbody tr th {\n",
       "        vertical-align: top;\n",
       "    }\n",
       "\n",
       "    .dataframe thead th {\n",
       "        text-align: right;\n",
       "    }\n",
       "</style>\n",
       "<table border=\"1\" class=\"dataframe\">\n",
       "  <thead>\n",
       "    <tr style=\"text-align: right;\">\n",
       "      <th></th>\n",
       "      <th>messages_included</th>\n",
       "      <th>mb_per_month_included</th>\n",
       "      <th>minutes_included</th>\n",
       "      <th>usd_monthly_pay</th>\n",
       "      <th>usd_per_gb</th>\n",
       "      <th>usd_per_message</th>\n",
       "      <th>usd_per_minute</th>\n",
       "      <th>plan_name</th>\n",
       "    </tr>\n",
       "  </thead>\n",
       "  <tbody>\n",
       "    <tr>\n",
       "      <th>0</th>\n",
       "      <td>50</td>\n",
       "      <td>15360</td>\n",
       "      <td>500</td>\n",
       "      <td>20</td>\n",
       "      <td>10</td>\n",
       "      <td>0.03</td>\n",
       "      <td>0.03</td>\n",
       "      <td>surf</td>\n",
       "    </tr>\n",
       "    <tr>\n",
       "      <th>1</th>\n",
       "      <td>1000</td>\n",
       "      <td>30720</td>\n",
       "      <td>3000</td>\n",
       "      <td>70</td>\n",
       "      <td>7</td>\n",
       "      <td>0.01</td>\n",
       "      <td>0.01</td>\n",
       "      <td>ultimate</td>\n",
       "    </tr>\n",
       "  </tbody>\n",
       "</table>\n",
       "</div>"
      ],
      "text/plain": [
       "   messages_included  mb_per_month_included  minutes_included  \\\n",
       "0                 50                  15360               500   \n",
       "1               1000                  30720              3000   \n",
       "\n",
       "   usd_monthly_pay  usd_per_gb  usd_per_message  usd_per_minute plan_name  \n",
       "0               20          10             0.03            0.03      surf  \n",
       "1               70           7             0.01            0.01  ultimate  "
      ]
     },
     "execution_count": 95,
     "metadata": {},
     "output_type": "execute_result"
    }
   ],
   "source": [
    "plans # Imprime las condiciones de la tarifa y asegúrate de que te quedan claras\n",
    "\n"
   ]
  },
  {
   "cell_type": "markdown",
   "metadata": {
    "id": "hMR1tP5d0q1F"
   },
   "source": [
    "## Agregar datos por usuario\n",
    "\n",
    "Para este análisis solo necesitaba el conteo de llamadas por usuario y mes.\n",
    "Sin embargo, en futuras ocasiones puedo usar una tabla dinámica (`pivot_table`) que permite calcular simultáneamente la suma de duraciones y el conteo de llamadas."
   ]
  },
  {
   "cell_type": "code",
   "execution_count": 96,
   "metadata": {
    "id": "A332cedB0q1G"
   },
   "outputs": [],
   "source": [
    "calls['month'] = calls['call_date'].dt.month\n",
    "\n",
    "pivot_calls = calls.pivot_table(\n",
    "    index=['user_id', 'month'],\n",
    "    values=['duration'],\n",
    "    aggfunc=['sum','count']\n",
    ").reset_index()"
   ]
  },
  {
   "cell_type": "code",
   "execution_count": 97,
   "metadata": {
    "id": "aw2cmuql0q1G"
   },
   "outputs": [],
   "source": [
    "minutes_per_month = calls.groupby(['user_id', 'month']).agg({'duration':'sum'}).reset_index()\n",
    "minutes_per_month.rename(columns={'duration':'minutes_per_month'},inplace=True)# Calcula la cantidad de minutos usados por cada usuario al mes. Guarda el resultado.\n",
    "\n"
   ]
  },
  {
   "cell_type": "code",
   "execution_count": 98,
   "metadata": {
    "id": "CcQvNHn60q1G"
   },
   "outputs": [],
   "source": [
    "messages['month'] = messages['message_date'].dt.month\n",
    "\n",
    "messages_per_month = messages.groupby(['user_id', 'month']).agg({'id':'count'}).reset_index()\n",
    "messages_per_month.rename(columns={'id':'messages_per_month'}, inplace=True)# Calcula el número de mensajes enviados por cada usuario al mes. Guarda el resultado.\n",
    "\n"
   ]
  },
  {
   "cell_type": "code",
   "execution_count": 99,
   "metadata": {
    "id": "H1AqN2eG0q1H"
   },
   "outputs": [],
   "source": [
    "internet['month'] = internet['session_date'].dt.month\n",
    "\n",
    "mb_per_month = internet.groupby(['user_id', 'month']).agg({'mb_used':'sum'}).reset_index()\n",
    "mb_per_month.rename(columns={'mb_used':'mb_per_month'}, inplace=True)"
   ]
  },
  {
   "cell_type": "code",
   "execution_count": 100,
   "metadata": {},
   "outputs": [
    {
     "data": {
      "text/html": [
       "<div>\n",
       "<style scoped>\n",
       "    .dataframe tbody tr th:only-of-type {\n",
       "        vertical-align: middle;\n",
       "    }\n",
       "\n",
       "    .dataframe tbody tr th {\n",
       "        vertical-align: top;\n",
       "    }\n",
       "\n",
       "    .dataframe thead tr th {\n",
       "        text-align: left;\n",
       "    }\n",
       "</style>\n",
       "<table border=\"1\" class=\"dataframe\">\n",
       "  <thead>\n",
       "    <tr>\n",
       "      <th></th>\n",
       "      <th>user_id</th>\n",
       "      <th>month</th>\n",
       "      <th>sum</th>\n",
       "      <th>count</th>\n",
       "    </tr>\n",
       "    <tr>\n",
       "      <th></th>\n",
       "      <th></th>\n",
       "      <th></th>\n",
       "      <th>duration</th>\n",
       "      <th>duration</th>\n",
       "    </tr>\n",
       "  </thead>\n",
       "  <tbody>\n",
       "    <tr>\n",
       "      <th>0</th>\n",
       "      <td>1000</td>\n",
       "      <td>12</td>\n",
       "      <td>116.83</td>\n",
       "      <td>16</td>\n",
       "    </tr>\n",
       "    <tr>\n",
       "      <th>1</th>\n",
       "      <td>1001</td>\n",
       "      <td>8</td>\n",
       "      <td>171.14</td>\n",
       "      <td>27</td>\n",
       "    </tr>\n",
       "    <tr>\n",
       "      <th>2</th>\n",
       "      <td>1001</td>\n",
       "      <td>9</td>\n",
       "      <td>297.69</td>\n",
       "      <td>49</td>\n",
       "    </tr>\n",
       "    <tr>\n",
       "      <th>3</th>\n",
       "      <td>1001</td>\n",
       "      <td>10</td>\n",
       "      <td>374.11</td>\n",
       "      <td>65</td>\n",
       "    </tr>\n",
       "    <tr>\n",
       "      <th>4</th>\n",
       "      <td>1001</td>\n",
       "      <td>11</td>\n",
       "      <td>404.59</td>\n",
       "      <td>64</td>\n",
       "    </tr>\n",
       "  </tbody>\n",
       "</table>\n",
       "</div>"
      ],
      "text/plain": [
       "  user_id month      sum    count\n",
       "                duration duration\n",
       "0    1000    12   116.83       16\n",
       "1    1001     8   171.14       27\n",
       "2    1001     9   297.69       49\n",
       "3    1001    10   374.11       65\n",
       "4    1001    11   404.59       64"
      ]
     },
     "execution_count": 100,
     "metadata": {},
     "output_type": "execute_result"
    }
   ],
   "source": [
    "pivot_calls.head()"
   ]
  },
  {
   "cell_type": "code",
   "execution_count": 101,
   "metadata": {
    "id": "FW99ykyf0q1H"
   },
   "outputs": [],
   "source": [
    "pivot_calls.columns = ['user_id', 'month', 'total_duration', 'calls_per_month']\n",
    "\n",
    "user_behavior = pivot_calls.merge(minutes_per_month, on=['user_id', 'month'], how='outer')\n",
    "user_behavior = user_behavior.merge(messages_per_month, on=['user_id', 'month'], how='outer')\n",
    "user_behavior = user_behavior.merge(mb_per_month, on=['user_id', 'month'], how='outer')\n",
    "# Fusiona los datos de llamadas, minutos, mensajes e Internet con base en user_id y month\n"
   ]
  },
  {
   "cell_type": "code",
   "execution_count": 102,
   "metadata": {
    "id": "0dNOXHag0q1H"
   },
   "outputs": [],
   "source": [
    "user_behavior = user_behavior.merge(users[['user_id', 'plan']], on='user_id', how='left')\n",
    "user_behavior = user_behavior.merge(plans, how='left', left_on='plan', right_on='plan_name')\n",
    "\n",
    "# Añade la información de la tarifa\n",
    "\n"
   ]
  },
  {
   "cell_type": "code",
   "execution_count": 103,
   "metadata": {},
   "outputs": [
    {
     "data": {
      "text/html": [
       "<div>\n",
       "<style scoped>\n",
       "    .dataframe tbody tr th:only-of-type {\n",
       "        vertical-align: middle;\n",
       "    }\n",
       "\n",
       "    .dataframe tbody tr th {\n",
       "        vertical-align: top;\n",
       "    }\n",
       "\n",
       "    .dataframe thead th {\n",
       "        text-align: right;\n",
       "    }\n",
       "</style>\n",
       "<table border=\"1\" class=\"dataframe\">\n",
       "  <thead>\n",
       "    <tr style=\"text-align: right;\">\n",
       "      <th></th>\n",
       "      <th>user_id</th>\n",
       "      <th>month</th>\n",
       "      <th>total_duration</th>\n",
       "      <th>calls_per_month</th>\n",
       "      <th>minutes_per_month</th>\n",
       "      <th>messages_per_month</th>\n",
       "      <th>mb_per_month</th>\n",
       "      <th>plan</th>\n",
       "      <th>messages_included</th>\n",
       "      <th>mb_per_month_included</th>\n",
       "      <th>minutes_included</th>\n",
       "      <th>usd_monthly_pay</th>\n",
       "      <th>usd_per_gb</th>\n",
       "      <th>usd_per_message</th>\n",
       "      <th>usd_per_minute</th>\n",
       "      <th>plan_name</th>\n",
       "    </tr>\n",
       "  </thead>\n",
       "  <tbody>\n",
       "    <tr>\n",
       "      <th>0</th>\n",
       "      <td>1000</td>\n",
       "      <td>12</td>\n",
       "      <td>116.83</td>\n",
       "      <td>16.0</td>\n",
       "      <td>116.83</td>\n",
       "      <td>11.0</td>\n",
       "      <td>1901.47</td>\n",
       "      <td>ultimate</td>\n",
       "      <td>1000</td>\n",
       "      <td>30720</td>\n",
       "      <td>3000</td>\n",
       "      <td>70</td>\n",
       "      <td>7</td>\n",
       "      <td>0.01</td>\n",
       "      <td>0.01</td>\n",
       "      <td>ultimate</td>\n",
       "    </tr>\n",
       "    <tr>\n",
       "      <th>1</th>\n",
       "      <td>1001</td>\n",
       "      <td>8</td>\n",
       "      <td>171.14</td>\n",
       "      <td>27.0</td>\n",
       "      <td>171.14</td>\n",
       "      <td>30.0</td>\n",
       "      <td>6919.15</td>\n",
       "      <td>surf</td>\n",
       "      <td>50</td>\n",
       "      <td>15360</td>\n",
       "      <td>500</td>\n",
       "      <td>20</td>\n",
       "      <td>10</td>\n",
       "      <td>0.03</td>\n",
       "      <td>0.03</td>\n",
       "      <td>surf</td>\n",
       "    </tr>\n",
       "    <tr>\n",
       "      <th>2</th>\n",
       "      <td>1001</td>\n",
       "      <td>9</td>\n",
       "      <td>297.69</td>\n",
       "      <td>49.0</td>\n",
       "      <td>297.69</td>\n",
       "      <td>44.0</td>\n",
       "      <td>13314.82</td>\n",
       "      <td>surf</td>\n",
       "      <td>50</td>\n",
       "      <td>15360</td>\n",
       "      <td>500</td>\n",
       "      <td>20</td>\n",
       "      <td>10</td>\n",
       "      <td>0.03</td>\n",
       "      <td>0.03</td>\n",
       "      <td>surf</td>\n",
       "    </tr>\n",
       "    <tr>\n",
       "      <th>3</th>\n",
       "      <td>1001</td>\n",
       "      <td>10</td>\n",
       "      <td>374.11</td>\n",
       "      <td>65.0</td>\n",
       "      <td>374.11</td>\n",
       "      <td>53.0</td>\n",
       "      <td>22330.49</td>\n",
       "      <td>surf</td>\n",
       "      <td>50</td>\n",
       "      <td>15360</td>\n",
       "      <td>500</td>\n",
       "      <td>20</td>\n",
       "      <td>10</td>\n",
       "      <td>0.03</td>\n",
       "      <td>0.03</td>\n",
       "      <td>surf</td>\n",
       "    </tr>\n",
       "    <tr>\n",
       "      <th>4</th>\n",
       "      <td>1001</td>\n",
       "      <td>11</td>\n",
       "      <td>404.59</td>\n",
       "      <td>64.0</td>\n",
       "      <td>404.59</td>\n",
       "      <td>36.0</td>\n",
       "      <td>18504.30</td>\n",
       "      <td>surf</td>\n",
       "      <td>50</td>\n",
       "      <td>15360</td>\n",
       "      <td>500</td>\n",
       "      <td>20</td>\n",
       "      <td>10</td>\n",
       "      <td>0.03</td>\n",
       "      <td>0.03</td>\n",
       "      <td>surf</td>\n",
       "    </tr>\n",
       "  </tbody>\n",
       "</table>\n",
       "</div>"
      ],
      "text/plain": [
       "   user_id  month  total_duration  calls_per_month  minutes_per_month  \\\n",
       "0     1000     12          116.83             16.0             116.83   \n",
       "1     1001      8          171.14             27.0             171.14   \n",
       "2     1001      9          297.69             49.0             297.69   \n",
       "3     1001     10          374.11             65.0             374.11   \n",
       "4     1001     11          404.59             64.0             404.59   \n",
       "\n",
       "   messages_per_month  mb_per_month      plan  messages_included  \\\n",
       "0                11.0       1901.47  ultimate               1000   \n",
       "1                30.0       6919.15      surf                 50   \n",
       "2                44.0      13314.82      surf                 50   \n",
       "3                53.0      22330.49      surf                 50   \n",
       "4                36.0      18504.30      surf                 50   \n",
       "\n",
       "   mb_per_month_included  minutes_included  usd_monthly_pay  usd_per_gb  \\\n",
       "0                  30720              3000               70           7   \n",
       "1                  15360               500               20          10   \n",
       "2                  15360               500               20          10   \n",
       "3                  15360               500               20          10   \n",
       "4                  15360               500               20          10   \n",
       "\n",
       "   usd_per_message  usd_per_minute plan_name  \n",
       "0             0.01            0.01  ultimate  \n",
       "1             0.03            0.03      surf  \n",
       "2             0.03            0.03      surf  \n",
       "3             0.03            0.03      surf  \n",
       "4             0.03            0.03      surf  "
      ]
     },
     "execution_count": 103,
     "metadata": {},
     "output_type": "execute_result"
    }
   ],
   "source": [
    "user_behavior.head()"
   ]
  },
  {
   "cell_type": "code",
   "execution_count": 105,
   "metadata": {},
   "outputs": [],
   "source": [
    "calls['month'] = calls['call_date'].dt.month\n",
    "calls_per_month = calls.groupby(['user_id', 'month']).agg({'id': 'count'}).reset_index()\n",
    "calls_per_month.rename(columns={'id': 'calls_per_month'}, inplace=True)\n"
   ]
  },
  {
   "cell_type": "code",
   "execution_count": 106,
   "metadata": {},
   "outputs": [],
   "source": [
    "minutes_per_month = calls.groupby(['user_id', 'month']).agg({'duration': 'sum'}).reset_index()\n",
    "minutes_per_month.rename(columns={'duration': 'minutes_per_month'}, inplace=True)\n"
   ]
  },
  {
   "cell_type": "code",
   "execution_count": 107,
   "metadata": {},
   "outputs": [],
   "source": [
    "messages['month'] = messages['message_date'].dt.month\n",
    "messages_per_month = messages.groupby(['user_id', 'month']).agg({'id': 'count'}).reset_index()\n",
    "messages_per_month.rename(columns={'id': 'messages_per_month'}, inplace=True)\n"
   ]
  },
  {
   "cell_type": "code",
   "execution_count": 108,
   "metadata": {},
   "outputs": [],
   "source": [
    "internet['month'] = internet['session_date'].dt.month\n",
    "mb_per_month = internet.groupby(['user_id', 'month']).agg({'mb_used': 'sum'}).reset_index()\n",
    "mb_per_month.rename(columns={'mb_used': 'mb_per_month'}, inplace=True)\n"
   ]
  },
  {
   "cell_type": "code",
   "execution_count": 109,
   "metadata": {},
   "outputs": [],
   "source": [
    "user_behavior = calls_per_month.merge(minutes_per_month, on=['user_id', 'month'], how='outer')\n",
    "user_behavior = user_behavior.merge(messages_per_month, on=['user_id', 'month'], how='outer')\n",
    "user_behavior = user_behavior.merge(mb_per_month, on=['user_id', 'month'], how='outer')"
   ]
  },
  {
   "cell_type": "code",
   "execution_count": 110,
   "metadata": {},
   "outputs": [],
   "source": [
    "user_behavior = user_behavior.merge(users[['user_id', 'plan']], on='user_id', how='left')\n",
    "user_behavior = user_behavior.merge(plans, how='left', left_on='plan', right_on='plan_name')"
   ]
  },
  {
   "cell_type": "code",
   "execution_count": 111,
   "metadata": {},
   "outputs": [],
   "source": [
    "user_behavior = user_behavior.fillna(0)\n"
   ]
  },
  {
   "cell_type": "code",
   "execution_count": 112,
   "metadata": {},
   "outputs": [],
   "source": [
    "import numpy as np"
   ]
  },
  {
   "cell_type": "code",
   "execution_count": 113,
   "metadata": {},
   "outputs": [],
   "source": [
    "user_behavior['minutes_per_month'] = np.ceil(user_behavior['minutes_per_month'])\n",
    "user_behavior['messages_per_month'] = np.ceil(user_behavior['messages_per_month'])\n",
    "user_behavior['gb_used'] = np.ceil(user_behavior['mb_per_month'] / 1024)\n",
    "user_behavior['gb_included'] = np.ceil(user_behavior['mb_per_month_included'] / 1024)"
   ]
  },
  {
   "cell_type": "code",
   "execution_count": 114,
   "metadata": {},
   "outputs": [],
   "source": [
    " #Calcula los ingresos mensuales por usuario (resta el límite del paquete gratuito del número total de llamadas, mensajes de texto y datos; multiplica el resultado por el valor del plan de llamadas; añade la tarifa mensual en función del plan de llamadas). Nota: Dadas las condiciones del plan, ¡esto podría no ser tan trivial como un par de líneas! Así que no pasa nada si dedicas algo de tiempo a ello.]\n",
    "    \n",
    "def calculate_revenue(row):\n",
    "    revenue = row['usd_monthly_pay']\n",
    "\n",
    "    # Minutos extra\n",
    "    extra_minutes = max(row['minutes_per_month'] - row['minutes_included'], 0)\n",
    "    revenue += extra_minutes * row['usd_per_minute']\n",
    "\n",
    "    # Mensajes extra\n",
    "    extra_messages = max(row['messages_per_month'] - row['messages_included'], 0)\n",
    "    revenue += extra_messages * row['usd_per_message']\n",
    "\n",
    "    # GB extra\n",
    "    extra_gb = max(row['gb_used'] - row['gb_included'], 0)\n",
    "    revenue += extra_gb * row['usd_per_gb']\n",
    "\n",
    "    return revenue"
   ]
  },
  {
   "cell_type": "code",
   "execution_count": 115,
   "metadata": {
    "id": "5FGCf_c60q1I"
   },
   "outputs": [],
   "source": [
    "user_behavior['revenue'] = user_behavior.apply(calculate_revenue, axis=1)"
   ]
  },
  {
   "cell_type": "markdown",
   "metadata": {
    "id": "-jtyHzJb0q1I"
   },
   "source": [
    "## Estudia el comportamiento de usuario"
   ]
  },
  {
   "cell_type": "markdown",
   "metadata": {
    "id": "vtW4CJEe0q1J"
   },
   "source": [
    "### Llamadas"
   ]
  },
  {
   "cell_type": "code",
   "execution_count": 124,
   "metadata": {
    "id": "Jf5v5--k0q1J"
   },
   "outputs": [
    {
     "data": {
      "image/png": "[encoded data removed]",
      "text/plain": [
       "<Figure size 1000x600 with 1 Axes>"
      ]
     },
     "metadata": {},
     "output_type": "display_data"
    }
   ],
   "source": [
    "# Compara la duración promedio de llamadas por cada plan y por cada mes. Traza un gráfico de barras para visualizarla.\n",
    "\n",
    "calls_duration = user_behavior.groupby(['plan_name', 'month'])['minutes_per_month'].mean().reset_index()\n",
    "\n",
    "import matplotlib.pyplot as plt\n",
    "import seaborn as sns\n",
    "\n",
    "plt.figure(figsize=(10,6))\n",
    "sns.barplot(data=calls_duration, x='month', y='minutes_per_month', hue='plan_name')\n",
    "plt.title('Duración promedio de llamadas por plan y mes')\n",
    "plt.ylabel('Minutos promedio')\n",
    "plt.xlabel('Mes')\n",
    "plt.legend(title='Plan')\n",
    "plt.show()"
   ]
  },
  {
   "cell_type": "code",
   "execution_count": 125,
   "metadata": {
    "id": "QoLqW1S_0q1J"
   },
   "outputs": [
    {
     "data": {
      "image/png": "[encoded data removed]",
      "text/plain": [
       "<Figure size 1000x600 with 1 Axes>"
      ]
     },
     "metadata": {},
     "output_type": "display_data"
    }
   ],
   "source": [
    "# Compara el número de minutos mensuales que necesitan los usuarios de cada plan. Traza un histograma.\n",
    "\n",
    "plt.figure(figsize=(10,6))\n",
    "sns.histplot(data=user_behavior, x='minutes_per_month', hue='plan_name', kde=True, multiple='stack')\n",
    "plt.title('Distribución de minutos mensuales por plan')\n",
    "plt.xlabel('Minutos al mes')\n",
    "plt.ylabel('Frecuencia')\n",
    "plt.show()"
   ]
  },
  {
   "cell_type": "markdown",
   "metadata": {
    "id": "bLS9T8OH0q1K"
   },
   "source": [
    "[Calculo de la media y la variable de la duración de las llamadas para averiguar si los usuarios de los distintos planes se comportan de forma diferente al realizar sus llamadas.]"
   ]
  },
  {
   "cell_type": "code",
   "execution_count": 126,
   "metadata": {
    "id": "oSndbAnt0q1K"
   },
   "outputs": [
    {
     "data": {
      "text/html": [
       "<div>\n",
       "<style scoped>\n",
       "    .dataframe tbody tr th:only-of-type {\n",
       "        vertical-align: middle;\n",
       "    }\n",
       "\n",
       "    .dataframe tbody tr th {\n",
       "        vertical-align: top;\n",
       "    }\n",
       "\n",
       "    .dataframe thead th {\n",
       "        text-align: right;\n",
       "    }\n",
       "</style>\n",
       "<table border=\"1\" class=\"dataframe\">\n",
       "  <thead>\n",
       "    <tr style=\"text-align: right;\">\n",
       "      <th></th>\n",
       "      <th>mean</th>\n",
       "      <th>var</th>\n",
       "    </tr>\n",
       "    <tr>\n",
       "      <th>plan_name</th>\n",
       "      <th></th>\n",
       "      <th></th>\n",
       "    </tr>\n",
       "  </thead>\n",
       "  <tbody>\n",
       "    <tr>\n",
       "      <th>surf</th>\n",
       "      <td>404.762390</td>\n",
       "      <td>49135.104891</td>\n",
       "    </tr>\n",
       "    <tr>\n",
       "      <th>ultimate</th>\n",
       "      <td>406.193083</td>\n",
       "      <td>51640.971402</td>\n",
       "    </tr>\n",
       "  </tbody>\n",
       "</table>\n",
       "</div>"
      ],
      "text/plain": [
       "                 mean           var\n",
       "plan_name                          \n",
       "surf       404.762390  49135.104891\n",
       "ultimate   406.193083  51640.971402"
      ]
     },
     "execution_count": 126,
     "metadata": {},
     "output_type": "execute_result"
    }
   ],
   "source": [
    "# Calcula la media y la varianza de la duración mensual de llamadas.\n",
    "user_behavior.groupby('plan_name')['minutes_per_month'].agg(['mean', 'var'])\n"
   ]
  },
  {
   "cell_type": "code",
   "execution_count": 127,
   "metadata": {
    "id": "nZzoRUKc0q1K"
   },
   "outputs": [
    {
     "data": {
      "image/png": "[encoded data removed]",
      "text/plain": [
       "<Figure size 1000x600 with 1 Axes>"
      ]
     },
     "metadata": {},
     "output_type": "display_data"
    }
   ],
   "source": [
    "# Traza un diagrama de caja para visualizar la distribución de la duración mensual de llamadas\n",
    "plt.figure(figsize=(10,6))\n",
    "sns.boxplot(data=user_behavior, x='plan_name', y='minutes_per_month')\n",
    "plt.title('Distribución de minutos mensuales por plan')\n",
    "plt.xlabel('Plan')\n",
    "plt.ylabel('Minutos por mes')\n",
    "plt.show()\n"
   ]
  },
  {
   "cell_type": "markdown",
   "metadata": {
    "id": "r627zBO50q1K"
   },
   "source": [
    "Tras analizar los datos de duración de llamadas mensuales por plan, puedo concluir que el comportamiento de los usuarios sí presenta diferencias según el plan contratado, aunque estas diferencias no son radicales.\n",
    "\n",
    "- Duración promedio y varianza:\n",
    "La duración promedio de minutos mensuales es bastante similar entre los planes Surf (404.76 min) y Ultimate (406.19 min). Sin embargo, la varianza es ligeramente mayor en Ultimate, lo que indica que algunos usuarios de este plan tienen patrones de uso más variables o extremos.\n",
    "\n",
    "- Gráfico de barras:\n",
    "La duración promedio de llamadas por mes muestra que, aunque hay algunas fluctuaciones mensuales, ambos planes siguen una tendencia bastante alineada en el tiempo. En algunos meses, Ultimate supera a Surf, pero no de forma consistente.\n",
    "\n",
    "- Histograma:\n",
    "El histograma evidencia una distribución similar en ambos planes, con un pico de frecuencia entre los 300 y 500 minutos mensuales. También es claro que hay usuarios que consumen muchos más minutos en el plan Ultimate, lo que podría explicar su mayor varianza.\n",
    "\n",
    "- Diagrama de caja:\n",
    "El diagrama de caja muestra que ambos planes tienen distribuciones bastante homogéneas, pero el plan Ultimate presenta más valores atípicos (outliers), lo que refuerza la idea de que algunos usuarios hacen un uso intensivo de las llamadas.\n",
    "\n",
    "Aunque el uso promedio de llamadas es similar para ambos planes, Ultimate tiene una mayor dispersión y más usuarios que tienden a usar un número elevado de minutos mensuales. Esto podría deberse a que los usuarios que eligen Ultimate saben que tienen mayores beneficios o buscan flexibilidad para usar más minutos sin preocuparse por costos adicionales."
   ]
  },
  {
   "cell_type": "markdown",
   "metadata": {
    "id": "8idKy8Wh0q1L"
   },
   "source": [
    "### Mensajes"
   ]
  },
  {
   "cell_type": "code",
   "execution_count": 128,
   "metadata": {
    "id": "NXLxiTit0q1L"
   },
   "outputs": [
    {
     "data": {
      "image/png": "[encoded data removed]",
      "text/plain": [
       "<Figure size 1000x600 with 1 Axes>"
      ]
     },
     "metadata": {},
     "output_type": "display_data"
    }
   ],
   "source": [
    "plt.figure(figsize=(10,6))\n",
    "sns.histplot(data=user_behavior, x='messages_per_month', hue='plan_name', kde=True, multiple='stack')\n",
    "plt.title('Distribución de mensajes enviados por mes según el plan')\n",
    "plt.xlabel('Mensajes al mes')\n",
    "plt.ylabel('Frecuencia')\n",
    "plt.show() # Comprara el número de mensajes que tienden a enviar cada mes los usuarios de cada plan\n",
    "\n"
   ]
  },
  {
   "cell_type": "code",
   "execution_count": 129,
   "metadata": {
    "id": "GRI_R7xF0q1L"
   },
   "outputs": [
    {
     "data": {
      "image/png": "[encoded data removed]",
      "text/plain": [
       "<Figure size 1000x600 with 1 Axes>"
      ]
     },
     "metadata": {},
     "output_type": "display_data"
    }
   ],
   "source": [
    "# Compara la cantidad de tráfico de Internet consumido por usuarios por plan\n",
    "import seaborn as sns\n",
    "import matplotlib.pyplot as plt\n",
    "\n",
    "plt.figure(figsize=(10,6))\n",
    "sns.boxplot(data=user_behavior, x='plan_name', y='mb_per_month')\n",
    "plt.title('Distribución del tráfico de Internet mensual por plan')\n",
    "plt.xlabel('Plan')\n",
    "plt.ylabel('MB por mes')\n",
    "plt.show()\n"
   ]
  },
  {
   "cell_type": "code",
   "execution_count": 130,
   "metadata": {
    "id": "dtFwCGAp0q1M"
   },
   "outputs": [
    {
     "data": {
      "image/png": "[encoded data removed]",
      "text/plain": [
       "<Figure size 1000x600 with 1 Axes>"
      ]
     },
     "metadata": {},
     "output_type": "display_data"
    }
   ],
   "source": [
    "plt.figure(figsize=(10,6))\n",
    "sns.histplot(data=user_behavior, x='mb_per_month', hue='plan_name', kde=True, multiple='stack')\n",
    "plt.title('Distribución del tráfico de Internet mensual por plan')\n",
    "plt.xlabel('MB por mes')\n",
    "plt.ylabel('Frecuencia')\n",
    "plt.show()\n",
    "\n",
    "#Comparativa con histograma para ver la forma de distribución"
   ]
  },
  {
   "cell_type": "markdown",
   "metadata": {
    "id": "390SSL480q1M"
   },
   "source": [
    "Al analizar la distribución del número de mensajes enviados mensualmente por los usuarios de cada plan, se observa que la mayoría de los usuarios envían una cantidad relativamente baja de mensajes, sin importar el plan que tengan. Esto se refleja claramente en el histograma, donde tanto para el plan surf como para el plan ultimate, la mayor parte de los valores se concentran en menos de 50 mensajes por mes.\n",
    "\n",
    "Aunque el plan ultimate ofrece un mayor número de mensajes incluidos sin costo adicional, los usuarios no tienden a aprovechar significativamente esta ventaja. De hecho, los usuarios de ultimate no muestran un comportamiento de envío de mensajes muy diferente al de los usuarios del plan surf. La similitud en las distribuciones sugiere que, independientemente de los beneficios ofrecidos por el plan, la mayoría de los usuarios no tienen una alta demanda de mensajes de texto.\n",
    "\n",
    "Esto podría deberse a que actualmente los usuarios prefieren utilizar aplicaciones de mensajería instantánea (como WhatsApp o Telegram), que utilizan datos en lugar de SMS tradicionales. Por lo tanto, los mensajes incluidos en los planes no parecen ser un factor determinante en el comportamiento de los usuarios.\n",
    "\n",
    "En conclusión, el comportamiento de envío de mensajes no varía de forma significativa entre los usuarios de los distintos planes. Esto sugiere que, al menos para este tipo de servicio, los usuarios presentan patrones de uso bastante homogéneos sin importar el plan contratado."
   ]
  },
  {
   "cell_type": "markdown",
   "metadata": {
    "id": "42YSypXz0q1M"
   },
   "source": [
    "### Internet"
   ]
  },
  {
   "cell_type": "code",
   "execution_count": 132,
   "metadata": {
    "id": "lSuKPtjh0q1M"
   },
   "outputs": [
    {
     "data": {
      "text/html": [
       "<div>\n",
       "<style scoped>\n",
       "    .dataframe tbody tr th:only-of-type {\n",
       "        vertical-align: middle;\n",
       "    }\n",
       "\n",
       "    .dataframe tbody tr th {\n",
       "        vertical-align: top;\n",
       "    }\n",
       "\n",
       "    .dataframe thead th {\n",
       "        text-align: right;\n",
       "    }\n",
       "</style>\n",
       "<table border=\"1\" class=\"dataframe\">\n",
       "  <thead>\n",
       "    <tr style=\"text-align: right;\">\n",
       "      <th></th>\n",
       "      <th>mean</th>\n",
       "      <th>var</th>\n",
       "    </tr>\n",
       "    <tr>\n",
       "      <th>plan_name</th>\n",
       "      <th></th>\n",
       "      <th></th>\n",
       "    </tr>\n",
       "  </thead>\n",
       "  <tbody>\n",
       "    <tr>\n",
       "      <th>surf</th>\n",
       "      <td>16558.283490</td>\n",
       "      <td>6.421640e+07</td>\n",
       "    </tr>\n",
       "    <tr>\n",
       "      <th>ultimate</th>\n",
       "      <td>17214.699694</td>\n",
       "      <td>6.165229e+07</td>\n",
       "    </tr>\n",
       "  </tbody>\n",
       "</table>\n",
       "</div>"
      ],
      "text/plain": [
       "                   mean           var\n",
       "plan_name                            \n",
       "surf       16558.283490  6.421640e+07\n",
       "ultimate   17214.699694  6.165229e+07"
      ]
     },
     "metadata": {},
     "output_type": "display_data"
    }
   ],
   "source": [
    "internet_stats = user_behavior.groupby('plan_name')['mb_per_month'].agg(['mean', 'var'])\n",
    "display(internet_stats) #Calculo la media y varianza del tráfico de internet mensual por plan."
   ]
  },
  {
   "cell_type": "code",
   "execution_count": 133,
   "metadata": {
    "id": "wnh8jYXi0q1N"
   },
   "outputs": [
    {
     "data": {
      "image/png": "[encoded data removed]",
      "text/plain": [
       "<Figure size 640x480 with 1 Axes>"
      ]
     },
     "metadata": {},
     "output_type": "display_data"
    }
   ],
   "source": [
    "sns.boxplot(data=user_behavior, x='plan_name', y='mb_per_month')\n",
    "plt.title('Distribución del tráfico de Internet mensual por plan')\n",
    "plt.xlabel('Plan')\n",
    "plt.ylabel('MB por mes')\n",
    "plt.show()\n",
    "\n",
    "#Trazo un diagrama de caja para visualizar la distribución del tráfico de internet mensual."
   ]
  },
  {
   "cell_type": "code",
   "execution_count": 134,
   "metadata": {
    "id": "5VlyJ9ry0q1N"
   },
   "outputs": [
    {
     "data": {
      "image/png": "[encoded data removed]",
      "text/plain": [
       "<Figure size 640x480 with 1 Axes>"
      ]
     },
     "metadata": {},
     "output_type": "display_data"
    }
   ],
   "source": [
    "sns.histplot(data=user_behavior, x='mb_per_month', hue='plan_name', kde=True, bins=30)\n",
    "plt.title('Distribución del tráfico de Internet mensual por plan')\n",
    "plt.xlabel('MB por mes')\n",
    "plt.ylabel('Frecuencia')\n",
    "plt.show()\n",
    "\n",
    "#Trazo un histograma para comparar la distribución del tráfico de internet por plan"
   ]
  },
  {
   "cell_type": "markdown",
   "metadata": {
    "id": "UN9zwuMP0q1N"
   },
   "source": [
    "Después de analizar la media y varianza del tráfico de Internet mensual, así como las distribuciones visuales por plan, observo que el consumo promedio de datos es bastante similar entre los usuarios de ambos planes. El plan surf tiene una media de aproximadamente 16,558 MB mensuales, mientras que el plan ultimate muestra un promedio ligeramente superior de 17,214 MB. Las varianzas también son relativamente cercanas, lo que sugiere patrones de consumo consistentes entre los usuarios sin importar el plan.\n",
    "\n",
    "El histograma revela que la mayoría de los usuarios consumen entre 10,000 y 25,000 MB mensuales, con distribuciones similares aunque con una ligera tendencia a un mayor uso de datos en el plan ultimate. Sin embargo, en ambos planes se observan algunos valores atípicos con consumos significativamente más altos.\n",
    "\n",
    "El diagrama de caja refuerza estas observaciones mostrando medianas similares y una cantidad comparable de valores atípicos (outliers).\n",
    "\n",
    "En resumen, no existe una diferencia sustancial en el consumo de Internet que dependa exclusivamente del plan. Es probable que el comportamiento de uso de datos esté más relacionado con las necesidades y hábitos individuales de los usuarios que con las características específicas de cada plan."
   ]
  },
  {
   "cell_type": "markdown",
   "metadata": {
    "id": "tCijq3260q1N"
   },
   "source": [
    "## Ingreso"
   ]
  },
  {
   "cell_type": "markdown",
   "metadata": {
    "id": "9nq5IAcy0q1O"
   },
   "source": [
    "[Del mismo modo que has estudiado el comportamiento de los usuarios, describe estadísticamente los ingresos de los planes.]"
   ]
  },
  {
   "cell_type": "code",
   "execution_count": 136,
   "metadata": {
    "id": "tz-dq_V00q1O"
   },
   "outputs": [
    {
     "data": {
      "text/html": [
       "<div>\n",
       "<style scoped>\n",
       "    .dataframe tbody tr th:only-of-type {\n",
       "        vertical-align: middle;\n",
       "    }\n",
       "\n",
       "    .dataframe tbody tr th {\n",
       "        vertical-align: top;\n",
       "    }\n",
       "\n",
       "    .dataframe thead th {\n",
       "        text-align: right;\n",
       "    }\n",
       "</style>\n",
       "<table border=\"1\" class=\"dataframe\">\n",
       "  <thead>\n",
       "    <tr style=\"text-align: right;\">\n",
       "      <th></th>\n",
       "      <th>mean</th>\n",
       "      <th>var</th>\n",
       "    </tr>\n",
       "    <tr>\n",
       "      <th>plan_name</th>\n",
       "      <th></th>\n",
       "      <th></th>\n",
       "    </tr>\n",
       "  </thead>\n",
       "  <tbody>\n",
       "    <tr>\n",
       "      <th>surf</th>\n",
       "      <td>57.293784</td>\n",
       "      <td>2887.544971</td>\n",
       "    </tr>\n",
       "    <tr>\n",
       "      <th>ultimate</th>\n",
       "      <td>72.116080</td>\n",
       "      <td>115.968081</td>\n",
       "    </tr>\n",
       "  </tbody>\n",
       "</table>\n",
       "</div>"
      ],
      "text/plain": [
       "                mean          var\n",
       "plan_name                        \n",
       "surf       57.293784  2887.544971\n",
       "ultimate   72.116080   115.968081"
      ]
     },
     "execution_count": 136,
     "metadata": {},
     "output_type": "execute_result"
    }
   ],
   "source": [
    "income_stats = user_behavior.groupby('plan_name')['revenue'].agg(['mean', 'var'])\n",
    "income_stats\n",
    "\n",
    "#Media y varianza del ingreso mensual por plan"
   ]
  },
  {
   "cell_type": "code",
   "execution_count": 137,
   "metadata": {
    "id": "0Y1v8ZUz0q1P"
   },
   "outputs": [
    {
     "data": {
      "image/png": "[encoded data removed]",
      "text/plain": [
       "<Figure size 800x600 with 1 Axes>"
      ]
     },
     "metadata": {},
     "output_type": "display_data"
    }
   ],
   "source": [
    "plt.figure(figsize=(8,6))\n",
    "sns.boxplot(data=user_behavior, x='plan_name', y='revenue')\n",
    "plt.title('Distribución del ingreso mensual por plan')\n",
    "plt.ylabel('USD por mes')\n",
    "plt.xlabel('Plan')\n",
    "plt.show()\n",
    "\n",
    "#Gráfico de caja del ingreso mensual por plan"
   ]
  },
  {
   "cell_type": "code",
   "execution_count": 135,
   "metadata": {
    "id": "bYmwxyVh0q1P"
   },
   "outputs": [
    {
     "data": {
      "image/png": "[encoded data removed]",
      "text/plain": [
       "<Figure size 800x600 with 1 Axes>"
      ]
     },
     "metadata": {},
     "output_type": "display_data"
    }
   ],
   "source": [
    "plt.figure(figsize=(8,6))\n",
    "sns.histplot(user_behavior, x='revenue', hue='plan_name', kde=True, multiple='stack')\n",
    "plt.title('Distribución del ingreso mensual por plan')\n",
    "plt.xlabel('USD por mes')\n",
    "plt.ylabel('Frecuencia')\n",
    "plt.show()\n",
    "\n",
    "#Histograma del ingreso mensual por plan"
   ]
  },
  {
   "cell_type": "markdown",
   "metadata": {
    "id": "KAFidcXZ0q1P"
   },
   "source": [
    "Al analizar el ingreso mensual generado por cada plan, se observa que, en promedio, los usuarios del plan ultimate generan mayores ingresos ($72.12 USD) en comparación con los usuarios del plan surf ($57.29 USD). Además, la varianza es significativamente más baja en el plan ultimate (115.97), lo que indica que los ingresos en este plan son mucho más consistentes y estables. Esto tiene sentido, ya que el plan ultimate probablemente incluye una tarifa mensual fija alta que cubre la mayoría de los servicios, lo que reduce la variabilidad en los cargos mensuales.\n",
    "\n",
    "En contraste, aunque el plan surf tiene un ingreso promedio menor, su varianza es mucho mayor (2887.54). Esto implica que algunos usuarios pagan solo la tarifa básica, mientras que otros pueden exceder los límites incluidos y generar cargos adicionales altos, lo cual explica la dispersión y la presencia de valores atípicos que se observan en el diagrama de caja.\n",
    "\n",
    "El histograma refuerza esta conclusión, mostrando que la mayoría de los usuarios ultimate concentran sus pagos cerca de su tarifa base con poca dispersión, mientras que los usuarios surf presentan una mayor diversidad de pagos mensuales, con algunos alcanzando cifras significativamente altas debido al consumo adicional de minutos, mensajes o datos.\n",
    "\n",
    "Aunque el plan ultimate genera ingresos mensuales más estables y predecibles, el plan surf, si bien más variable, puede ocasionalmente generar ingresos altos debido al consumo extra de algunos usuarios. Esto debe ser considerado estratégicamente si el objetivo de la empresa es maximizar ingresos fijos o beneficiarse de consumos adicionales.\n"
   ]
  },
  {
   "cell_type": "markdown",
   "metadata": {
    "id": "ajJ7VKeI0q1Q"
   },
   "source": [
    "## Prueba las hipótesis estadísticas"
   ]
  },
  {
   "cell_type": "markdown",
   "metadata": {
    "id": "AdXAZ-yL0q1Q"
   },
   "source": [
    "[Prueba de hipótesis de que son diferentes los ingresos promedio procedentes de los usuarios de los planes de llamada Ultimate y Surf.]"
   ]
  },
  {
   "cell_type": "code",
   "execution_count": 141,
   "metadata": {
    "id": "nFoPNlPq0q1R"
   },
   "outputs": [
    {
     "name": "stdout",
     "output_type": "stream",
     "text": [
      "Valor p: 4.881852673479799e-25\n",
      "Se rechaza la hipótesis nula. Los ingresos promedio de los planes son significativamente diferentes.\n"
     ]
    }
   ],
   "source": [
    "# Hipótesis:\n",
    "# H0: No hay diferencia significativa entre los ingresos promedio de los planes Ultimate y Surf.\n",
    "# H1: Sí hay una diferencia significativa entre los ingresos promedio de los planes Ultimate y Surf.\n",
    "\n",
    "from scipy import stats\n",
    "\n",
    "surf_revenue = user_behavior[user_behavior['plan_name'] == 'surf']['revenue']\n",
    "ultimate_revenue = user_behavior[user_behavior['plan_name'] == 'ultimate']['revenue']\n",
    "\n",
    "alpha = 0.05\n",
    "results = stats.ttest_ind(surf_revenue, ultimate_revenue, equal_var=False)\n",
    "\n",
    "print('Valor p:', results.pvalue)\n",
    "\n",
    "if results.pvalue < alpha:\n",
    "    print('Se rechaza la hipótesis nula. Los ingresos promedio de los planes son significativamente diferentes.')\n",
    "else:\n",
    "    print('No se puede rechazar la hipótesis nula. No hay diferencias significativas en los ingresos promedio.')"
   ]
  },
  {
   "cell_type": "markdown",
   "metadata": {
    "id": "tCcAruM60q1R"
   },
   "source": [
    "[Prueba de la hipótesis de que el ingreso promedio de los usuarios del área NY-NJ es diferente al de los usuarios de otras regiones.]"
   ]
  },
  {
   "cell_type": "code",
   "execution_count": 143,
   "metadata": {
    "id": "Cqcj7wrZ0q1S"
   },
   "outputs": [
    {
     "name": "stdout",
     "output_type": "stream",
     "text": [
      "Valor p: 0.01860947297497194\n",
      "Se rechaza la hipótesis nula. Los ingresos promedio de NY-NJ y otras regiones son significativamente diferentes.\n"
     ]
    }
   ],
   "source": [
    "user_behavior = user_behavior.merge(users[['user_id', 'city']], on='user_id', how='left')\n",
    "\n",
    "# Hipótesis:\n",
    "# H0: No hay diferencia significativa entre los ingresos promedio de los usuarios de NY-NJ y otras regiones.\n",
    "# H1: Sí hay una diferencia significativa entre los ingresos promedio de los usuarios de NY-NJ y otras regiones.\n",
    "\n",
    "alpha = 0.05\n",
    "\n",
    "ny_nj_revenue = user_behavior[user_behavior['city'].str.contains('NY-NJ', na=False)]['revenue']\n",
    "other_revenue = user_behavior[~user_behavior['city'].str.contains('NY-NJ', na=False)]['revenue']\n",
    "\n",
    "from scipy import stats\n",
    "results_region = stats.ttest_ind(ny_nj_revenue, other_revenue, equal_var=False)\n",
    "\n",
    "print('Valor p:', results_region.pvalue)\n",
    "\n",
    "if results_region.pvalue < alpha:\n",
    "    print('Se rechaza la hipótesis nula. Los ingresos promedio de NY-NJ y otras regiones son significativamente diferentes.')\n",
    "else:\n",
    "    print('No se puede rechazar la hipótesis nula. No hay diferencias significativas en los ingresos promedio entre NY-NJ y otras regiones.')"
   ]
  },
  {
   "cell_type": "markdown",
   "metadata": {
    "id": "bbTR8UQO0q1T"
   },
   "source": [
    "## Conclusión general\n",
    "\n",
    "1.- Procesamiento y limpieza de datos\n",
    "Comencé por integrar y depurar los datos de llamadas, mensajes, tráfico de Internet y planes tarifarios. Detecté y gestioné valores nulos y duplicados para asegurar la calidad de los datos. Además, agregué columnas útiles como el mes de cada registro para poder agrupar el comportamiento mensual de los usuarios.\n",
    "\n",
    "2.- Agregación y combinación de fuentes\n",
    "Fusioné los datos de comportamiento del usuario con los detalles de los planes tarifarios y las ciudades. Esta combinación me permitió realizar un análisis detallado no solo del uso de servicios, sino también de los ingresos generados y la segmentación geográfica.\n",
    "\n",
    "3.- Análisis descriptivo del comportamiento de usuarios\n",
    "Realicé estadísticas descriptivas y visualizaciones para comprender cómo varía el comportamiento de llamadas, mensajes e Internet según el plan. Detecté que, aunque los patrones de uso son similares entre planes, hay diferencias importantes en la media y la varianza de consumo.\n",
    "\n",
    "4.- Cálculo del ingreso mensual\n",
    "Diseñé una función personalizada para calcular el ingreso mensual por usuario, considerando los minutos, mensajes y tráfico de Internet incluidos y los cargos por excedente. Esto fue clave para poder comparar la rentabilidad de cada plan.\n",
    "\n",
    "5.- Visualización de patrones de uso e ingresos\n",
    "A través de gráficos de barras, histogramas y diagramas de caja, analicé la distribución del consumo y los ingresos mensuales. Esto permitió observar patrones de dispersión, identificar valores atípicos y comprobar visualmente las diferencias entre planes y regiones.\n",
    "\n",
    "6.- Pruebas estadísticas e hipótesis\n",
    "Formulé hipótesis nulas y alternativas para dos casos críticos:\n",
    "\t•\tLa diferencia de ingresos entre los planes Ultimate y Surf.\n",
    "\t•\tLa diferencia de ingresos entre los usuarios de NY-NJ y otras regiones.\n",
    "En ambos casos, los resultados de las pruebas t de Student indicaron diferencias estadísticamente significativas (p < 0.05), llevando al rechazo de las hipótesis nulas.\n",
    "\n",
    "7.- Decisiones clave y supuestos adoptados\n",
    "\t•\tSe asumió que las varianzas pueden no ser iguales entre los grupos, por lo que se utilizó equal_var=False en las pruebas t.\n",
    "\t•\tLos ingresos y consumos mensuales fueron tratados como variables independientes para el análisis.\n",
    "\t•\tLos datos faltantes fueron reemplazados por ceros donde correspondía (uso no registrado) y eliminados cuando comprometían el análisis.\n",
    "\t•\tSe optó por un nivel de significancia estándar de 5% (α = 0.05).\n",
    "    \n",
    "A lo largo del análisis, se identificaron diferencias significativas tanto en el comportamiento de uso como en los ingresos generados por los distintos planes y regiones. Estos hallazgos no solo validan la importancia de segmentar por plan y ubicación, sino que proporcionan información estratégica para la toma de decisiones sobre tarifas, promociones y posibles ajustes en los planes para maximizar la rentabilidad.\n"
   ]
  },
  {
   "cell_type": "markdown",
   "metadata": {},
   "source": [
    "Adicional, adjunto un Resumen ejecutivo que refieren al \"Análisis de comportamiento e ingresos por plan\"\n",
    "\n",
    "- Comportamiento de uso\n",
    " * Llamadas:\n",
    "Los usuarios de ambos planes (Surf y Ultimate) muestran patrones de uso similares en minutos mensuales, aunque Ultimate presenta una ligera tendencia hacia mayor consumo.\n",
    " * Mensajes:\n",
    "Predomina el bajo uso de mensajes en general, con la mayoría de usuarios enviando pocos SMS por mes, independientemente del plan.\n",
    " * Internet:\n",
    "El tráfico de datos mensual es comparable entre planes, pero Ultimate tiende a registrar un consumo ligeramente superior y una menor variabilidad.\n",
    "\n",
    "- Ingresos mensuales\n",
    "* Ingresos promedio:\n",
    "* Surf: $57.29 USD\n",
    "* Ultimate: $72.12 USD\n",
    "* Los ingresos presentan mayor variabilidad en el plan Surf, con varios casos de ingresos altos por exceso de consumo.\n",
    "\n",
    "- Comparación\n",
    "Ingresos entre Ultimate y Surf\n",
    "* Hipótesis nula: No hay diferencia significativa\n",
    "* Valor p: 4.88e-25\n",
    "* Conclusión: Se rechaza H₀\n",
    "\n",
    "Ingresos NY-NJ vs otras regiones\n",
    "* Hipótesis nula: No hay diferencia significativa\n",
    "* Valor p: 0.0186\n",
    "* Conclusión: Se rechaza H₀\n",
    "    \n",
    "Interpretación:\n",
    "Las diferencias en ingresos entre los planes y entre las regiones son estadísticamente significativas.\n",
    "\n",
    "- Decisiones y supuestos clave\n",
    "* Nivel de significancia α = 0.05.\n",
    "* Se utilizó t-test de Student para comparar medias.\n",
    "* Varianzas consideradas desiguales (equal_var = False).\n",
    "* Datos nulos gestionados con reemplazo por cero o eliminación según contexto.\n",
    "* Los ingresos y usos mensuales fueron tratados como independientes.\n",
    "\n",
    "- Recomendaciones estratégicas\n",
    "* Optimizar el plan Surf:\n",
    "Considerar ajustar precios o límites de consumo para reducir los costos por exceso, ya que presentan alta variabilidad en ingresos.\n",
    "* Focalizar promociones en Ultimate:\n",
    "Usuarios de este plan generan ingresos más estables y con menor dispersión.\n",
    "* Segmentar estrategias por región:\n",
    "Dado que NY-NJ muestra diferencias significativas en ingresos, se recomienda diseñar ofertas o tarifas específicas para esta área.\n"
   ]
  },
  {
   "cell_type": "code",
   "execution_count": null,
   "metadata": {},
   "outputs": [],
   "source": []
  }
 ],
 "metadata": {
  "ExecuteTimeLog": [
   {
    "duration": 828,
    "start_time": "2021-11-16T09:21:11.304Z"
   },
   {
    "duration": 893,
    "start_time": "2021-11-16T09:21:17.728Z"
   },
   {
    "duration": 1150,
    "start_time": "2021-11-16T09:21:29.568Z"
   },
   {
    "duration": 3,
    "start_time": "2021-11-16T09:24:14.495Z"
   },
   {
    "duration": 120,
    "start_time": "2021-11-16T09:24:46.630Z"
   },
   {
    "duration": 3,
    "start_time": "2021-11-16T09:28:27.882Z"
   },
   {
    "duration": 4,
    "start_time": "2021-11-16T09:29:54.281Z"
   },
   {
    "duration": 3,
    "start_time": "2021-11-16T09:30:45.936Z"
   },
   {
    "duration": 4,
    "start_time": "2021-11-16T09:31:06.300Z"
   },
   {
    "duration": 113,
    "start_time": "2021-11-16T09:31:37.208Z"
   },
   {
    "duration": 143,
    "start_time": "2021-11-16T09:31:48.656Z"
   },
   {
    "duration": 98,
    "start_time": "2021-11-16T09:31:55.678Z"
   },
   {
    "duration": 3,
    "start_time": "2021-11-16T09:32:08.535Z"
   },
   {
    "duration": 111,
    "start_time": "2021-11-16T09:32:10.120Z"
   },
   {
    "duration": 3,
    "start_time": "2021-11-16T09:32:15.732Z"
   },
   {
    "duration": 4,
    "start_time": "2021-11-16T09:32:29.423Z"
   },
   {
    "duration": 3,
    "start_time": "2021-11-16T10:03:03.074Z"
   },
   {
    "duration": 3,
    "start_time": "2021-11-16T10:10:01.288Z"
   },
   {
    "duration": 3,
    "start_time": "2021-11-16T10:10:46.923Z"
   },
   {
    "duration": 121,
    "start_time": "2021-11-16T10:37:46.494Z"
   },
   {
    "duration": 125,
    "start_time": "2021-11-16T10:38:20.632Z"
   },
   {
    "duration": 112,
    "start_time": "2021-11-16T10:46:53.001Z"
   },
   {
    "duration": 110,
    "start_time": "2021-11-16T10:48:25.775Z"
   },
   {
    "duration": 3,
    "start_time": "2021-11-16T10:50:18.720Z"
   },
   {
    "duration": 4,
    "start_time": "2021-11-16T10:50:37.649Z"
   },
   {
    "duration": 2,
    "start_time": "2021-11-16T10:50:51.884Z"
   },
   {
    "duration": 3,
    "start_time": "2021-11-16T10:51:56.237Z"
   },
   {
    "duration": 101,
    "start_time": "2021-11-16T10:53:13.791Z"
   },
   {
    "duration": 3,
    "start_time": "2021-11-16T10:55:59.186Z"
   },
   {
    "duration": 3,
    "start_time": "2021-11-16T10:56:10.751Z"
   },
   {
    "duration": 3,
    "start_time": "2021-11-16T10:56:49.038Z"
   },
   {
    "duration": 3,
    "start_time": "2021-11-16T10:56:49.174Z"
   },
   {
    "duration": 4,
    "start_time": "2021-11-16T10:56:49.414Z"
   },
   {
    "duration": 3,
    "start_time": "2021-11-16T10:56:49.680Z"
   },
   {
    "duration": 3,
    "start_time": "2021-11-16T10:56:50.370Z"
   },
   {
    "duration": 114,
    "start_time": "2021-11-16T10:59:34.518Z"
   },
   {
    "duration": 3,
    "start_time": "2021-11-16T11:01:41.201Z"
   },
   {
    "duration": 116,
    "start_time": "2021-11-16T11:01:48.754Z"
   },
   {
    "duration": 3,
    "start_time": "2021-11-16T11:02:16.685Z"
   },
   {
    "duration": 3,
    "start_time": "2021-11-16T11:02:19.479Z"
   },
   {
    "duration": 3,
    "start_time": "2021-11-16T11:02:47.067Z"
   },
   {
    "duration": 3,
    "start_time": "2021-11-16T11:02:49.353Z"
   },
   {
    "duration": 3,
    "start_time": "2021-11-16T11:03:07.835Z"
   },
   {
    "duration": 3,
    "start_time": "2021-11-16T11:03:07.953Z"
   },
   {
    "duration": 112,
    "start_time": "2021-11-16T11:07:52.072Z"
   },
   {
    "duration": 187,
    "start_time": "2021-11-16T11:09:23.468Z"
   },
   {
    "duration": 4,
    "start_time": "2021-11-16T11:10:01.455Z"
   },
   {
    "duration": 3,
    "start_time": "2021-11-16T11:10:05.069Z"
   },
   {
    "duration": 4,
    "start_time": "2021-11-16T11:10:13.376Z"
   },
   {
    "duration": 3,
    "start_time": "2021-11-16T11:10:14.434Z"
   },
   {
    "duration": 3,
    "start_time": "2021-11-16T11:10:22.853Z"
   },
   {
    "duration": 4,
    "start_time": "2021-11-16T11:27:29.279Z"
   },
   {
    "duration": 4,
    "start_time": "2021-11-16T11:29:08.919Z"
   },
   {
    "duration": 118,
    "start_time": "2021-11-16T11:29:46.703Z"
   },
   {
    "duration": 437,
    "start_time": "2021-11-16T11:36:02.181Z"
   },
   {
    "duration": 157,
    "start_time": "2021-11-16T11:36:14.388Z"
   },
   {
    "duration": 207,
    "start_time": "2021-11-16T11:47:15.898Z"
   },
   {
    "duration": 3,
    "start_time": "2021-11-16T11:53:52.092Z"
   },
   {
    "duration": 3,
    "start_time": "2021-11-16T11:53:52.236Z"
   },
   {
    "duration": 3,
    "start_time": "2021-11-16T11:59:12.005Z"
   },
   {
    "duration": 112,
    "start_time": "2021-11-16T12:00:33.446Z"
   },
   {
    "duration": 3,
    "start_time": "2021-11-16T12:02:14.453Z"
   },
   {
    "duration": 3,
    "start_time": "2021-11-16T12:02:39.512Z"
   },
   {
    "duration": 106,
    "start_time": "2021-11-16T12:03:03.460Z"
   },
   {
    "duration": 3,
    "start_time": "2021-11-17T20:37:21.139Z"
   },
   {
    "duration": 3,
    "start_time": "2021-11-17T20:37:22.229Z"
   },
   {
    "duration": 3,
    "start_time": "2021-11-17T20:38:38.806Z"
   },
   {
    "duration": 3,
    "start_time": "2021-11-17T20:38:41.958Z"
   },
   {
    "duration": 3,
    "start_time": "2021-11-17T20:43:46.551Z"
   },
   {
    "duration": 4,
    "start_time": "2021-11-17T20:58:21.835Z"
   },
   {
    "duration": 3,
    "start_time": "2021-11-17T20:59:21.872Z"
   },
   {
    "duration": 4,
    "start_time": "2021-11-17T20:59:45.352Z"
   },
   {
    "duration": 4,
    "start_time": "2021-11-17T20:59:49.646Z"
   },
   {
    "duration": 159,
    "start_time": "2021-11-17T21:02:26.949Z"
   },
   {
    "duration": 3,
    "start_time": "2021-11-17T21:03:53.461Z"
   },
   {
    "duration": 3,
    "start_time": "2021-11-17T21:03:53.694Z"
   },
   {
    "duration": 3,
    "start_time": "2021-11-17T21:05:28.145Z"
   },
   {
    "duration": 116,
    "start_time": "2021-11-17T21:05:57.787Z"
   },
   {
    "duration": 3,
    "start_time": "2021-11-17T21:06:37.993Z"
   },
   {
    "duration": 3,
    "start_time": "2021-11-17T21:06:38.261Z"
   },
   {
    "duration": 3,
    "start_time": "2021-11-17T21:11:54.358Z"
   },
   {
    "duration": 3,
    "start_time": "2021-11-17T21:12:43.846Z"
   },
   {
    "duration": 4,
    "start_time": "2021-11-17T21:13:08.773Z"
   },
   {
    "duration": 3,
    "start_time": "2021-11-17T21:14:44.441Z"
   },
   {
    "duration": 3,
    "start_time": "2021-11-17T21:15:42.059Z"
   },
   {
    "duration": 4,
    "start_time": "2021-11-17T21:15:51.995Z"
   },
   {
    "duration": 3,
    "start_time": "2021-11-17T21:15:53.923Z"
   },
   {
    "duration": 3,
    "start_time": "2021-11-17T21:15:55.282Z"
   },
   {
    "duration": 3,
    "start_time": "2021-11-17T21:16:28.492Z"
   },
   {
    "duration": 3,
    "start_time": "2021-11-17T21:16:32.603Z"
   },
   {
    "duration": 3,
    "start_time": "2021-11-17T21:17:06.941Z"
   },
   {
    "duration": 98,
    "start_time": "2021-11-17T21:18:05.733Z"
   },
   {
    "duration": 4,
    "start_time": "2021-11-17T21:21:35.255Z"
   },
   {
    "duration": 3,
    "start_time": "2021-11-17T21:21:37.804Z"
   },
   {
    "duration": 4,
    "start_time": "2021-11-17T21:23:06.071Z"
   },
   {
    "duration": 3,
    "start_time": "2021-11-17T21:23:24.799Z"
   },
   {
    "duration": 3,
    "start_time": "2021-11-17T21:23:32.591Z"
   },
   {
    "duration": 98,
    "start_time": "2021-11-17T21:28:31.559Z"
   },
   {
    "duration": 3,
    "start_time": "2021-11-17T21:28:45.448Z"
   },
   {
    "duration": 3,
    "start_time": "2021-11-17T21:29:17.303Z"
   },
   {
    "duration": 3,
    "start_time": "2021-11-17T21:29:29.617Z"
   },
   {
    "duration": 3,
    "start_time": "2021-11-17T21:29:32.681Z"
   },
   {
    "duration": 3,
    "start_time": "2021-11-17T21:36:11.474Z"
   },
   {
    "duration": 3,
    "start_time": "2021-11-17T21:36:14.791Z"
   },
   {
    "duration": 3,
    "start_time": "2021-11-17T21:36:53.943Z"
   },
   {
    "duration": 3,
    "start_time": "2021-11-17T21:36:56.165Z"
   },
   {
    "duration": 4,
    "start_time": "2021-11-17T21:37:16.590Z"
   },
   {
    "duration": 3,
    "start_time": "2021-11-17T21:37:22.702Z"
   },
   {
    "duration": 4,
    "start_time": "2021-11-17T21:38:03.479Z"
   },
   {
    "duration": 3,
    "start_time": "2021-11-17T21:38:08.601Z"
   },
   {
    "duration": 3,
    "start_time": "2021-11-17T21:38:12.928Z"
   },
   {
    "duration": 3,
    "start_time": "2021-11-17T21:38:48.896Z"
   },
   {
    "duration": 2,
    "start_time": "2021-11-17T21:38:49.171Z"
   },
   {
    "duration": 4,
    "start_time": "2021-11-17T21:39:57.889Z"
   },
   {
    "duration": 3,
    "start_time": "2021-11-17T21:39:58.057Z"
   },
   {
    "duration": 3,
    "start_time": "2021-11-17T21:41:20.108Z"
   },
   {
    "duration": 3,
    "start_time": "2021-11-17T21:41:20.629Z"
   },
   {
    "duration": 3,
    "start_time": "2021-11-17T21:42:49.136Z"
   },
   {
    "duration": 3,
    "start_time": "2021-11-17T21:43:15.137Z"
   },
   {
    "duration": 4,
    "start_time": "2021-11-17T21:43:16.766Z"
   },
   {
    "duration": 4,
    "start_time": "2021-11-17T21:43:31.711Z"
   },
   {
    "duration": 3,
    "start_time": "2021-11-17T21:43:36.312Z"
   },
   {
    "duration": 4,
    "start_time": "2021-11-17T21:45:08.825Z"
   },
   {
    "duration": 4,
    "start_time": "2021-11-17T21:45:10.119Z"
   },
   {
    "duration": 4,
    "start_time": "2021-11-17T21:45:13.748Z"
   },
   {
    "duration": 3,
    "start_time": "2021-11-17T21:45:22.219Z"
   },
   {
    "duration": 3,
    "start_time": "2021-11-17T21:45:33.412Z"
   },
   {
    "duration": 2,
    "start_time": "2021-11-17T21:46:01.885Z"
   },
   {
    "duration": 3,
    "start_time": "2021-11-17T21:46:03.628Z"
   },
   {
    "duration": 107,
    "start_time": "2021-11-17T21:47:32.512Z"
   },
   {
    "duration": 103,
    "start_time": "2021-11-17T21:50:36.243Z"
   },
   {
    "duration": 3,
    "start_time": "2021-11-18T06:28:31.440Z"
   },
   {
    "duration": 3,
    "start_time": "2021-11-18T06:29:00.168Z"
   },
   {
    "duration": 3,
    "start_time": "2021-11-18T06:31:27.008Z"
   },
   {
    "duration": 2,
    "start_time": "2021-11-18T06:35:34.288Z"
   },
   {
    "duration": 2,
    "start_time": "2021-11-18T06:38:04.527Z"
   },
   {
    "duration": 2705,
    "start_time": "2025-05-07T01:01:23.463Z"
   },
   {
    "duration": 224,
    "start_time": "2025-05-07T01:04:02.337Z"
   },
   {
    "duration": 10,
    "start_time": "2025-05-07T01:04:56.049Z"
   },
   {
    "duration": 25,
    "start_time": "2025-05-07T01:05:05.015Z"
   },
   {
    "duration": 10,
    "start_time": "2025-05-07T01:14:45.695Z"
   },
   {
    "duration": 14,
    "start_time": "2025-05-07T01:14:48.810Z"
   },
   {
    "duration": 16,
    "start_time": "2025-05-07T01:20:29.077Z"
   },
   {
    "duration": 13,
    "start_time": "2025-05-07T01:20:39.386Z"
   },
   {
    "duration": 360,
    "start_time": "2025-05-07T01:21:48.360Z"
   },
   {
    "duration": 28,
    "start_time": "2025-05-07T01:22:33.607Z"
   },
   {
    "duration": 2,
    "start_time": "2025-05-07T01:22:45.759Z"
   },
   {
    "duration": 218,
    "start_time": "2025-05-07T01:22:48.587Z"
   },
   {
    "duration": 11,
    "start_time": "2025-05-07T01:22:52.449Z"
   },
   {
    "duration": 8,
    "start_time": "2025-05-07T01:22:55.660Z"
   },
   {
    "duration": 10,
    "start_time": "2025-05-07T01:23:00.348Z"
   },
   {
    "duration": 10,
    "start_time": "2025-05-07T01:23:03.324Z"
   },
   {
    "duration": 33,
    "start_time": "2025-05-07T01:23:06.785Z"
   },
   {
    "duration": 31,
    "start_time": "2025-05-07T01:23:48.572Z"
   },
   {
    "duration": 16,
    "start_time": "2025-05-07T01:25:03.401Z"
   },
   {
    "duration": 10,
    "start_time": "2025-05-07T01:25:06.348Z"
   },
   {
    "duration": 26,
    "start_time": "2025-05-07T01:25:10.399Z"
   },
   {
    "duration": 6,
    "start_time": "2025-05-07T01:26:36.683Z"
   },
   {
    "duration": 16,
    "start_time": "2025-05-07T01:26:41.186Z"
   },
   {
    "duration": 13,
    "start_time": "2025-05-07T01:28:01.375Z"
   },
   {
    "duration": 10,
    "start_time": "2025-05-07T01:28:03.814Z"
   },
   {
    "duration": 19,
    "start_time": "2025-05-07T01:29:17.718Z"
   },
   {
    "duration": 16,
    "start_time": "2025-05-07T01:29:25.228Z"
   },
   {
    "duration": 18,
    "start_time": "2025-05-07T01:36:43.004Z"
   },
   {
    "duration": 19,
    "start_time": "2025-05-07T01:36:46.055Z"
   },
   {
    "duration": 18,
    "start_time": "2025-05-07T01:37:47.094Z"
   },
   {
    "duration": 8,
    "start_time": "2025-05-07T01:38:19.810Z"
   },
   {
    "duration": 9,
    "start_time": "2025-05-07T01:38:32.560Z"
   },
   {
    "duration": 388,
    "start_time": "2025-05-07T01:42:32.918Z"
   },
   {
    "duration": 23,
    "start_time": "2025-05-07T01:47:12.986Z"
   },
   {
    "duration": 14,
    "start_time": "2025-05-07T01:48:52.201Z"
   },
   {
    "duration": 3,
    "start_time": "2025-05-07T01:52:09.085Z"
   },
   {
    "duration": 16,
    "start_time": "2025-05-07T01:53:00.210Z"
   },
   {
    "duration": 16,
    "start_time": "2025-05-07T01:54:49.108Z"
   },
   {
    "duration": 16,
    "start_time": "2025-05-07T01:58:29.326Z"
   },
   {
    "duration": 11,
    "start_time": "2025-05-07T02:00:14.058Z"
   },
   {
    "duration": 434,
    "start_time": "2025-05-07T02:14:52.612Z"
   },
   {
    "duration": 3,
    "start_time": "2025-05-07T02:16:03.457Z"
   },
   {
    "duration": 155,
    "start_time": "2025-05-07T02:16:05.794Z"
   },
   {
    "duration": 13,
    "start_time": "2025-05-07T02:16:09.916Z"
   },
   {
    "duration": 9,
    "start_time": "2025-05-07T02:16:12.528Z"
   },
   {
    "duration": 9,
    "start_time": "2025-05-07T02:16:16.732Z"
   },
   {
    "duration": 10,
    "start_time": "2025-05-07T02:16:19.702Z"
   },
   {
    "duration": 7,
    "start_time": "2025-05-07T02:16:25.231Z"
   },
   {
    "duration": 19,
    "start_time": "2025-05-07T02:16:30.085Z"
   },
   {
    "duration": 9,
    "start_time": "2025-05-07T02:16:33.222Z"
   },
   {
    "duration": 24,
    "start_time": "2025-05-07T02:16:36.915Z"
   },
   {
    "duration": 12,
    "start_time": "2025-05-07T02:16:40.786Z"
   },
   {
    "duration": 8,
    "start_time": "2025-05-07T02:16:43.954Z"
   },
   {
    "duration": 14,
    "start_time": "2025-05-07T02:16:48.177Z"
   },
   {
    "duration": 17,
    "start_time": "2025-05-07T02:16:55.590Z"
   },
   {
    "duration": 12,
    "start_time": "2025-05-07T02:16:58.195Z"
   },
   {
    "duration": 13,
    "start_time": "2025-05-07T02:17:02.107Z"
   },
   {
    "duration": 7,
    "start_time": "2025-05-07T02:17:04.361Z"
   },
   {
    "duration": 10,
    "start_time": "2025-05-07T02:17:08.462Z"
   },
   {
    "duration": 26,
    "start_time": "2025-05-07T02:17:11.434Z"
   },
   {
    "duration": 15,
    "start_time": "2025-05-07T02:17:13.745Z"
   },
   {
    "duration": 15,
    "start_time": "2025-05-07T02:17:15.330Z"
   },
   {
    "duration": 10,
    "start_time": "2025-05-07T02:17:16.141Z"
   },
   {
    "duration": 13,
    "start_time": "2025-05-07T02:17:19.648Z"
   },
   {
    "duration": 9,
    "start_time": "2025-05-07T02:17:20.948Z"
   },
   {
    "duration": 97,
    "start_time": "2025-05-07T02:17:27.458Z"
   },
   {
    "duration": 7,
    "start_time": "2025-05-07T02:25:39.114Z"
   },
   {
    "duration": 8,
    "start_time": "2025-05-07T02:25:41.267Z"
   },
   {
    "duration": 105,
    "start_time": "2025-05-07T02:26:04.231Z"
   },
   {
    "duration": 7,
    "start_time": "2025-05-07T02:26:08.432Z"
   },
   {
    "duration": 94,
    "start_time": "2025-05-07T02:26:09.945Z"
   },
   {
    "duration": 80,
    "start_time": "2025-05-07T02:26:24.727Z"
   },
   {
    "duration": 77,
    "start_time": "2025-05-07T02:28:22.112Z"
   },
   {
    "duration": 40,
    "start_time": "2025-05-07T02:28:29.935Z"
   },
   {
    "duration": 76,
    "start_time": "2025-05-07T02:28:34.783Z"
   },
   {
    "duration": 14,
    "start_time": "2025-05-07T02:28:50.356Z"
   },
   {
    "duration": 2,
    "start_time": "2025-05-07T02:28:59.665Z"
   },
   {
    "duration": 161,
    "start_time": "2025-05-07T02:29:01.712Z"
   },
   {
    "duration": 9,
    "start_time": "2025-05-07T02:29:04.980Z"
   },
   {
    "duration": 12,
    "start_time": "2025-05-07T02:29:08.429Z"
   },
   {
    "duration": 10,
    "start_time": "2025-05-07T02:29:12.400Z"
   },
   {
    "duration": 16,
    "start_time": "2025-05-07T02:29:14.764Z"
   },
   {
    "duration": 7,
    "start_time": "2025-05-07T02:29:18.847Z"
   },
   {
    "duration": 22,
    "start_time": "2025-05-07T02:29:21.858Z"
   },
   {
    "duration": 12,
    "start_time": "2025-05-07T02:29:23.558Z"
   },
   {
    "duration": 24,
    "start_time": "2025-05-07T02:29:27.782Z"
   },
   {
    "duration": 17,
    "start_time": "2025-05-07T02:29:31.400Z"
   },
   {
    "duration": 11,
    "start_time": "2025-05-07T02:29:35.028Z"
   },
   {
    "duration": 15,
    "start_time": "2025-05-07T02:29:38.997Z"
   },
   {
    "duration": 18,
    "start_time": "2025-05-07T02:29:42.498Z"
   },
   {
    "duration": 12,
    "start_time": "2025-05-07T02:29:44.834Z"
   },
   {
    "duration": 13,
    "start_time": "2025-05-07T02:29:48.268Z"
   },
   {
    "duration": 7,
    "start_time": "2025-05-07T02:29:51.093Z"
   },
   {
    "duration": 7,
    "start_time": "2025-05-07T02:29:54.857Z"
   },
   {
    "duration": 28,
    "start_time": "2025-05-07T02:29:57.250Z"
   },
   {
    "duration": 12,
    "start_time": "2025-05-07T02:29:59.432Z"
   },
   {
    "duration": 14,
    "start_time": "2025-05-07T02:30:00.394Z"
   },
   {
    "duration": 13,
    "start_time": "2025-05-07T02:30:01.090Z"
   },
   {
    "duration": 12,
    "start_time": "2025-05-07T02:30:04.392Z"
   },
   {
    "duration": 10,
    "start_time": "2025-05-07T02:30:09.982Z"
   },
   {
    "duration": 102,
    "start_time": "2025-05-07T02:30:21.249Z"
   },
   {
    "duration": 76,
    "start_time": "2025-05-07T02:30:34.601Z"
   },
   {
    "duration": 15,
    "start_time": "2025-05-07T02:33:27.499Z"
   },
   {
    "duration": 17,
    "start_time": "2025-05-07T02:34:22.118Z"
   },
   {
    "duration": 11,
    "start_time": "2025-05-07T02:34:48.578Z"
   },
   {
    "duration": 39,
    "start_time": "2025-05-07T02:35:28.817Z"
   },
   {
    "duration": 11,
    "start_time": "2025-05-07T02:35:45.232Z"
   },
   {
    "duration": 5,
    "start_time": "2025-05-07T02:36:21.188Z"
   },
   {
    "duration": 4,
    "start_time": "2025-05-07T02:36:44.446Z"
   },
   {
    "duration": 74,
    "start_time": "2025-05-07T02:37:29.428Z"
   },
   {
    "duration": 5,
    "start_time": "2025-05-07T02:37:51.713Z"
   },
   {
    "duration": 101,
    "start_time": "2025-05-07T02:38:23.314Z"
   },
   {
    "duration": 5,
    "start_time": "2025-05-07T02:39:19.156Z"
   },
   {
    "duration": 97,
    "start_time": "2025-05-07T02:39:27.947Z"
   },
   {
    "duration": 7,
    "start_time": "2025-05-07T02:48:48.338Z"
   },
   {
    "duration": 5,
    "start_time": "2025-05-07T02:48:53.623Z"
   },
   {
    "duration": 4,
    "start_time": "2025-05-07T02:49:11.131Z"
   },
   {
    "duration": 88,
    "start_time": "2025-05-07T02:49:29.618Z"
   },
   {
    "duration": 3,
    "start_time": "2025-05-07T02:50:05.706Z"
   },
   {
    "duration": 3,
    "start_time": "2025-05-07T03:00:33.991Z"
   },
   {
    "duration": 4,
    "start_time": "2025-05-07T03:06:47.133Z"
   },
   {
    "duration": 57,
    "start_time": "2025-05-07T03:07:12.248Z"
   },
   {
    "duration": 230,
    "start_time": "2025-05-07T03:15:33.330Z"
   },
   {
    "duration": 495,
    "start_time": "2025-05-07T03:18:17.129Z"
   },
   {
    "duration": 8,
    "start_time": "2025-05-07T03:19:40.060Z"
   },
   {
    "duration": 132,
    "start_time": "2025-05-07T03:20:14.087Z"
   },
   {
    "duration": 350,
    "start_time": "2025-05-07T03:41:52.001Z"
   },
   {
    "duration": 158,
    "start_time": "2025-05-07T03:45:30.291Z"
   },
   {
    "duration": 456,
    "start_time": "2025-05-07T03:46:10.441Z"
   },
   {
    "duration": 9,
    "start_time": "2025-05-07T04:06:26.414Z"
   },
   {
    "duration": 123,
    "start_time": "2025-05-07T04:06:56.408Z"
   },
   {
    "duration": 373,
    "start_time": "2025-05-07T04:07:56.398Z"
   },
   {
    "duration": 435,
    "start_time": "2025-05-07T04:19:47.347Z"
   },
   {
    "duration": 9,
    "start_time": "2025-05-07T04:19:55.350Z"
   },
   {
    "duration": 124,
    "start_time": "2025-05-07T04:19:58.685Z"
   },
   {
    "duration": 7,
    "start_time": "2025-05-07T04:31:05.682Z"
   },
   {
    "duration": 97,
    "start_time": "2025-05-07T04:32:53.906Z"
   },
   {
    "duration": 16,
    "start_time": "2025-05-07T04:38:12.863Z"
   },
   {
    "duration": 7,
    "start_time": "2025-05-07T04:39:34.640Z"
   },
   {
    "duration": 76,
    "start_time": "2025-05-07T04:40:16.065Z"
   },
   {
    "duration": 14,
    "start_time": "2025-05-07T04:40:48.049Z"
   },
   {
    "duration": 2816,
    "start_time": "2025-05-07T14:46:43.067Z"
   },
   {
    "duration": 214,
    "start_time": "2025-05-07T14:53:42.789Z"
   },
   {
    "duration": 207,
    "start_time": "2025-05-07T14:53:53.371Z"
   },
   {
    "duration": 9,
    "start_time": "2025-05-07T14:53:56.508Z"
   },
   {
    "duration": 10,
    "start_time": "2025-05-07T14:53:59.128Z"
   },
   {
    "duration": 9,
    "start_time": "2025-05-07T14:54:03.767Z"
   },
   {
    "duration": 10,
    "start_time": "2025-05-07T14:54:05.573Z"
   },
   {
    "duration": 6,
    "start_time": "2025-05-07T14:54:09.475Z"
   },
   {
    "duration": 16,
    "start_time": "2025-05-07T14:54:20.992Z"
   },
   {
    "duration": 9,
    "start_time": "2025-05-07T14:54:23.505Z"
   },
   {
    "duration": 17,
    "start_time": "2025-05-07T14:57:03.761Z"
   },
   {
    "duration": 12,
    "start_time": "2025-05-07T15:00:07.759Z"
   },
   {
    "duration": 14,
    "start_time": "2025-05-07T15:01:10.666Z"
   },
   {
    "duration": 460,
    "start_time": "2025-05-07T15:05:08.610Z"
   },
   {
    "duration": 11,
    "start_time": "2025-05-07T15:05:21.269Z"
   },
   {
    "duration": 9,
    "start_time": "2025-05-07T15:05:22.974Z"
   },
   {
    "duration": 12,
    "start_time": "2025-05-07T15:05:27.330Z"
   },
   {
    "duration": 14,
    "start_time": "2025-05-07T15:05:30.685Z"
   },
   {
    "duration": 12,
    "start_time": "2025-05-07T15:05:32.820Z"
   },
   {
    "duration": 99,
    "start_time": "2025-05-07T15:05:36.222Z"
   },
   {
    "duration": 8,
    "start_time": "2025-05-07T15:05:39.208Z"
   },
   {
    "duration": 8,
    "start_time": "2025-05-07T15:05:42.770Z"
   },
   {
    "duration": 74,
    "start_time": "2025-05-07T15:05:45.871Z"
   },
   {
    "duration": 43,
    "start_time": "2025-05-07T15:10:55.536Z"
   },
   {
    "duration": 13,
    "start_time": "2025-05-07T15:12:43.143Z"
   },
   {
    "duration": 14,
    "start_time": "2025-05-07T15:12:44.496Z"
   },
   {
    "duration": 14,
    "start_time": "2025-05-07T15:12:45.920Z"
   },
   {
    "duration": 18,
    "start_time": "2025-05-07T15:12:48.901Z"
   },
   {
    "duration": 14,
    "start_time": "2025-05-07T15:12:54.357Z"
   },
   {
    "duration": 19,
    "start_time": "2025-05-07T15:13:01.506Z"
   },
   {
    "duration": 19,
    "start_time": "2025-05-07T15:13:14.481Z"
   },
   {
    "duration": 4,
    "start_time": "2025-05-07T15:15:42.108Z"
   },
   {
    "duration": 159,
    "start_time": "2025-05-07T15:15:44.047Z"
   },
   {
    "duration": 10,
    "start_time": "2025-05-07T15:15:46.463Z"
   },
   {
    "duration": 11,
    "start_time": "2025-05-07T15:15:49.296Z"
   },
   {
    "duration": 10,
    "start_time": "2025-05-07T15:15:53.774Z"
   },
   {
    "duration": 9,
    "start_time": "2025-05-07T15:15:55.798Z"
   },
   {
    "duration": 5,
    "start_time": "2025-05-07T15:15:59.678Z"
   },
   {
    "duration": 18,
    "start_time": "2025-05-07T15:16:02.979Z"
   },
   {
    "duration": 14,
    "start_time": "2025-05-07T15:16:05.131Z"
   },
   {
    "duration": 18,
    "start_time": "2025-05-07T15:16:08.526Z"
   },
   {
    "duration": 15,
    "start_time": "2025-05-07T15:16:11.293Z"
   },
   {
    "duration": 8,
    "start_time": "2025-05-07T15:16:13.299Z"
   },
   {
    "duration": 11,
    "start_time": "2025-05-07T15:16:16.570Z"
   },
   {
    "duration": 16,
    "start_time": "2025-05-07T15:16:19.279Z"
   },
   {
    "duration": 12,
    "start_time": "2025-05-07T15:16:21.495Z"
   },
   {
    "duration": 18,
    "start_time": "2025-05-07T15:16:24.561Z"
   },
   {
    "duration": 7,
    "start_time": "2025-05-07T15:16:27.312Z"
   },
   {
    "duration": 10,
    "start_time": "2025-05-07T15:16:30.162Z"
   },
   {
    "duration": 33,
    "start_time": "2025-05-07T15:16:33.018Z"
   },
   {
    "duration": 13,
    "start_time": "2025-05-07T15:16:35.817Z"
   },
   {
    "duration": 17,
    "start_time": "2025-05-07T15:16:38.510Z"
   },
   {
    "duration": 18,
    "start_time": "2025-05-07T15:16:39.312Z"
   },
   {
    "duration": 19,
    "start_time": "2025-05-07T15:16:42.349Z"
   },
   {
    "duration": 14,
    "start_time": "2025-05-07T15:16:44.864Z"
   },
   {
    "duration": 10,
    "start_time": "2025-05-07T15:17:27.815Z"
   },
   {
    "duration": 16,
    "start_time": "2025-05-07T15:18:38.372Z"
   },
   {
    "duration": 24,
    "start_time": "2025-05-07T15:19:16.619Z"
   },
   {
    "duration": 14,
    "start_time": "2025-05-07T15:19:32.902Z"
   },
   {
    "duration": 6,
    "start_time": "2025-05-07T15:25:21.778Z"
   },
   {
    "duration": 4,
    "start_time": "2025-05-07T15:25:22.913Z"
   },
   {
    "duration": 4,
    "start_time": "2025-05-07T15:25:23.595Z"
   },
   {
    "duration": 221,
    "start_time": "2025-05-07T15:25:40.304Z"
   },
   {
    "duration": 22,
    "start_time": "2025-05-07T15:28:49.815Z"
   },
   {
    "duration": 7,
    "start_time": "2025-05-07T15:28:54.695Z"
   },
   {
    "duration": 21,
    "start_time": "2025-05-07T15:28:56.945Z"
   },
   {
    "duration": 18,
    "start_time": "2025-05-07T15:29:20.066Z"
   },
   {
    "duration": 31,
    "start_time": "2025-05-07T15:32:30.195Z"
   },
   {
    "duration": 13,
    "start_time": "2025-05-07T15:32:33.159Z"
   },
   {
    "duration": 14,
    "start_time": "2025-05-07T15:32:33.747Z"
   },
   {
    "duration": 15,
    "start_time": "2025-05-07T15:32:34.299Z"
   },
   {
    "duration": 9,
    "start_time": "2025-05-07T15:32:37.128Z"
   },
   {
    "duration": 19,
    "start_time": "2025-05-07T15:32:40.025Z"
   },
   {
    "duration": 9,
    "start_time": "2025-05-07T15:32:41.797Z"
   },
   {
    "duration": 13,
    "start_time": "2025-05-07T15:32:43.093Z"
   },
   {
    "duration": 8,
    "start_time": "2025-05-07T15:32:45.949Z"
   },
   {
    "duration": 17,
    "start_time": "2025-05-07T15:32:47.363Z"
   },
   {
    "duration": 3,
    "start_time": "2025-05-07T15:33:18.855Z"
   },
   {
    "duration": 181,
    "start_time": "2025-05-07T15:33:21.216Z"
   },
   {
    "duration": 15,
    "start_time": "2025-05-07T15:33:24.116Z"
   },
   {
    "duration": 11,
    "start_time": "2025-05-07T15:33:25.353Z"
   },
   {
    "duration": 11,
    "start_time": "2025-05-07T15:33:30.384Z"
   },
   {
    "duration": 11,
    "start_time": "2025-05-07T15:33:32.502Z"
   },
   {
    "duration": 5,
    "start_time": "2025-05-07T15:33:35.843Z"
   },
   {
    "duration": 18,
    "start_time": "2025-05-07T15:33:39.305Z"
   },
   {
    "duration": 11,
    "start_time": "2025-05-07T15:33:41.746Z"
   },
   {
    "duration": 22,
    "start_time": "2025-05-07T15:33:44.900Z"
   },
   {
    "duration": 18,
    "start_time": "2025-05-07T15:33:47.728Z"
   },
   {
    "duration": 11,
    "start_time": "2025-05-07T15:33:49.518Z"
   },
   {
    "duration": 12,
    "start_time": "2025-05-07T15:33:53.374Z"
   },
   {
    "duration": 19,
    "start_time": "2025-05-07T15:33:56.017Z"
   },
   {
    "duration": 12,
    "start_time": "2025-05-07T15:33:57.972Z"
   },
   {
    "duration": 14,
    "start_time": "2025-05-07T15:34:01.401Z"
   },
   {
    "duration": 8,
    "start_time": "2025-05-07T15:34:03.899Z"
   },
   {
    "duration": 8,
    "start_time": "2025-05-07T15:34:07.175Z"
   },
   {
    "duration": 35,
    "start_time": "2025-05-07T15:34:09.683Z"
   },
   {
    "duration": 14,
    "start_time": "2025-05-07T15:34:13.196Z"
   },
   {
    "duration": 15,
    "start_time": "2025-05-07T15:34:14.529Z"
   },
   {
    "duration": 17,
    "start_time": "2025-05-07T15:34:16.459Z"
   },
   {
    "duration": 10,
    "start_time": "2025-05-07T15:34:19.134Z"
   },
   {
    "duration": 13,
    "start_time": "2025-05-07T15:34:23.799Z"
   },
   {
    "duration": 11,
    "start_time": "2025-05-07T15:34:25.382Z"
   },
   {
    "duration": 16,
    "start_time": "2025-05-07T15:34:27.397Z"
   },
   {
    "duration": 9,
    "start_time": "2025-05-07T15:34:31.450Z"
   },
   {
    "duration": 26,
    "start_time": "2025-05-07T15:37:05.729Z"
   },
   {
    "duration": 12,
    "start_time": "2025-05-07T15:37:21.386Z"
   },
   {
    "duration": 19,
    "start_time": "2025-05-07T15:37:34.771Z"
   },
   {
    "duration": 17,
    "start_time": "2025-05-07T15:37:56.113Z"
   },
   {
    "duration": 12,
    "start_time": "2025-05-07T15:38:28.090Z"
   },
   {
    "duration": 11,
    "start_time": "2025-05-07T15:38:43.863Z"
   },
   {
    "duration": 5,
    "start_time": "2025-05-07T15:39:05.565Z"
   },
   {
    "duration": 2,
    "start_time": "2025-05-07T15:39:22.834Z"
   },
   {
    "duration": 14,
    "start_time": "2025-05-07T15:39:42.318Z"
   },
   {
    "duration": 3,
    "start_time": "2025-05-07T15:40:23.586Z"
   },
   {
    "duration": 73,
    "start_time": "2025-05-07T15:40:37.916Z"
   }
  ],
  "colab": {
   "provenance": []
  },
  "kernelspec": {
   "display_name": "Python [conda env:base] *",
   "language": "python",
   "name": "conda-base-py"
  },
  "language_info": {
   "codemirror_mode": {
    "name": "ipython",
    "version": 3
   },
   "file_extension": ".py",
   "mimetype": "text/x-python",
   "name": "python",
   "nbconvert_exporter": "python",
   "pygments_lexer": "ipython3",
   "version": "3.12.7"
  },
  "toc": {
   "base_numbering": 1,
   "nav_menu": {},
   "number_sections": true,
   "sideBar": true,
   "skip_h1_title": false,
   "title_cell": "Table of Contents",
   "title_sidebar": "Contents",
   "toc_cell": false,
   "toc_position": {},
   "toc_section_display": true,
   "toc_window_display": true
  }
 },
 "nbformat": 4,
 "nbformat_minor": 4
}
